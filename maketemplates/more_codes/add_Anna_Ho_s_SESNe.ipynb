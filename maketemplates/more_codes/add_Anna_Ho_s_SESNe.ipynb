{
 "cells": [
  {
   "cell_type": "code",
   "execution_count": 3,
   "metadata": {},
   "outputs": [],
   "source": [
    "import numpy as np\n",
    "import pandas as pd\n",
    "import matplotlib.pyplot as plt\n",
    "import pandas as pd\n",
    "import glob\n",
    "from astropy.io import ascii"
   ]
  },
  {
   "cell_type": "code",
   "execution_count": 4,
   "metadata": {},
   "outputs": [],
   "source": [
    "new_lc = []\n",
    "with open(\"./../data/ZTF_ForcedPhot/paper_table_ztf-lc.txt\") as fp:\n",
    "    Lines = fp.readlines()\n",
    "    for line in Lines:\n",
    "        new_lc.append(line.split(' & '))\n",
    "        "
   ]
  },
  {
   "cell_type": "code",
   "execution_count": 5,
   "metadata": {},
   "outputs": [
    {
     "data": {
      "text/plain": [
       "array(['r', 'r', 'r', ..., 'i', 'z', 'i'], dtype='<U26')"
      ]
     },
     "execution_count": 5,
     "metadata": {},
     "output_type": "execute_result"
    }
   ],
   "source": [
    "np.asarray(new_lc)[:,1]"
   ]
  },
  {
   "cell_type": "code",
   "execution_count": 6,
   "metadata": {},
   "outputs": [],
   "source": [
    "df = pd.DataFrame({'name': np.asarray(new_lc)[:,0],\n",
    "                   'band': np.asarray(new_lc)[:,1],\n",
    "                   'JD': np.asarray(new_lc)[:,2],\n",
    "                   'flux': np.asarray(new_lc)[:,3],\n",
    "                   'eflux': np.asarray(new_lc)[:,4],\n",
    "                   'mag': np.asarray(new_lc)[:,5],\n",
    "                   'emag': np.asarray(new_lc)[:,6]})"
   ]
  },
  {
   "cell_type": "code",
   "execution_count": 7,
   "metadata": {},
   "outputs": [],
   "source": [
    "# df.groupby('name').size().keys()[1:]\n",
    "names = np.unique(np.asarray(new_lc)[:,0])[1:]"
   ]
  },
  {
   "cell_type": "code",
   "execution_count": 8,
   "metadata": {},
   "outputs": [],
   "source": [
    "shortnames = names.copy()\n",
    "for i,name in enumerate(shortnames):\n",
    "    if name.split('20')[1] == '':\n",
    "        shortnames[i] = 'sn20'+ name.split('20')[2]\n",
    "    else:\n",
    "        shortnames[i] = 'sn'+ name.split('20')[1]"
   ]
  },
  {
   "cell_type": "code",
   "execution_count": 9,
   "metadata": {},
   "outputs": [
    {
     "data": {
      "text/plain": [
       "array(['sn18lug', 'sn18lwc', 'sn19aajt', 'sn19aaju', 'sn19dcm', 'sn19esf',\n",
       "       'sn19kyw', 'sn19lbr', 'sn19qwx', 'sn19scr', 'sn19van', 'sn20aexw',\n",
       "       'sn20bdh', 'sn20bot', 'sn20kfw', 'sn20mlq', 'sn20rsc', 'sn20xlt',\n",
       "       'sn20xnd', 'sn20yqt', 'sn18bcc', 'sn18gep', 'sn18ghd', 'sn18gjx',\n",
       "       'sn19aajs', 'sn19deh', 'sn19dge', 'sn19myn', 'sn19php', 'sn19qav',\n",
       "       'sn19rii', 'sn19rta', 'sn20ano', 'sn20ikq', 'sn20jji', 'sn20jmb',\n",
       "       'sn20ntt', 'sn20oi', 'sn20vyv'], dtype='<U26')"
      ]
     },
     "execution_count": 9,
     "metadata": {},
     "output_type": "execute_result"
    }
   ],
   "source": [
    "shortnames"
   ]
  },
  {
   "cell_type": "code",
   "execution_count": 11,
   "metadata": {},
   "outputs": [],
   "source": [
    "for i,name in enumerate(shortnames):\n",
    "    # if name != 'sn20oi':\n",
    "    #     continue\n",
    "    sn = df[df.name == names[i]].reset_index()\n",
    "    fileout = open(\"./../../literaturedata/slc.\" + name + \".f\", \"w\")\n",
    "    bands = sn.groupby('band').size().keys()\n",
    "    \n",
    "    for i, b in enumerate(bands):\n",
    "        if b in ['UVW1', 'UVW2', 'UVM2', 'H', 'Ks', 'J']:\n",
    "            continue\n",
    "        \n",
    "        \n",
    "        for j, t in enumerate(sn[sn.band == b].reset_index()['JD']):\n",
    "            \n",
    "            dm = sn[sn.band == b].reset_index()['emag'][j]\n",
    "            \n",
    "            if float(dm) > 90:\n",
    "                continue\n",
    "#                 dm = 1\n",
    "        \n",
    "            fileout.write('{0} {1} {2} {3} {4} {5}\\n'.format(b + 'l', t, 'nan', 'nan', dm,\n",
    "                                                             sn[sn.band == b].reset_index()['mag'][j]))\n",
    "    fileout.close()"
   ]
  },
  {
   "cell_type": "markdown",
   "metadata": {},
   "source": [
    "# IIb SNe ZTF forced photometry"
   ]
  },
  {
   "cell_type": "code",
   "execution_count": 48,
   "metadata": {},
   "outputs": [],
   "source": [
    "path = 'data/ZTF_ForcedPhot/'\n",
    "# data/ZTF_ForcedPhot/'\n",
    "sn_name = 'SN2020ikq'\n"
   ]
  },
  {
   "cell_type": "code",
   "execution_count": 49,
   "metadata": {},
   "outputs": [],
   "source": [
    "peaks = {'SN2020xlt':59141.45,\n",
    "         'SN2018gjx':58379.44,\n",
    "         'SN2020rsc':59081.47,\n",
    "         'SN2019rta':58759.43,\n",
    "         'SN2020ano':58871.45,\n",
    "         'SN2020ikq':58971.30\n",
    "        }"
   ]
  },
  {
   "cell_type": "code",
   "execution_count": 54,
   "metadata": {},
   "outputs": [
    {
     "name": "stdout",
     "output_type": "stream",
     "text": [
      "SN2020xlt\n",
      "g\n",
      "r\n",
      "SN2018gjx\n",
      "g\n",
      "i\n",
      "r\n",
      "SN2020rsc\n",
      "g\n",
      "r\n",
      "SN2019rta\n",
      "g\n",
      "r\n",
      "SN2020ano\n",
      "g\n",
      "i\n",
      "r\n",
      "SN2020ikq\n",
      "g\n",
      "i\n",
      "r\n"
     ]
    }
   ],
   "source": [
    "for i,name in enumerate(peaks.keys()):\n",
    "    \n",
    "    # Using readlines()\n",
    "    filepath = path+'{}_lc.txt'.format(name)\n",
    "    print(name)\n",
    "    df = pd.read_csv(path+name+'.csv')\n",
    "\n",
    "    \n",
    "    if name.split('20')[1] == '':\n",
    "        shortname = 'sn20'+ name.split('20')[2]\n",
    "    else:\n",
    "        shortname = 'sn'+ name.split('20')[1]\n",
    "        \n",
    "    fileout = open(\"./../literaturedata/slc.\" + shortname + \".f\", \"w\")\n",
    "    bands = [df.groupby('filter').size().keys()[i].split('_')[1] for i in range(len(df.groupby('filter').size().keys()))]\n",
    "    \n",
    "    for i, b in enumerate(bands):\n",
    "        print(b)\n",
    "        \n",
    "        if b in ['UVW1', 'UVW2', 'UVM2', 'H', 'Ks', 'J']:\n",
    "            continue\n",
    "        \n",
    "        \n",
    "        for j, t in enumerate(df[df['filter'] == 'ZTF_'+b]['jd']):\n",
    "            \n",
    "            dm = df[df['filter'] == 'ZTF_'+b]['magerr'].reset_index(drop=True)[j]\n",
    "            \n",
    "#             if float(dm) > 90:\n",
    "#                 continue\n",
    "#                 dm = 1\n",
    "        \n",
    "            fileout.write('{0} {1} {2} {3} {4} {5}\\n'.format(b + 'l', t, 'nan', 'nan', dm,\n",
    "                                                             df[df['filter'] == 'ZTF_'+b]['mag'].reset_index(drop=True)[j]))\n",
    "    fileout.close()\n",
    "    \n",
    "    \n",
    "    \n"
   ]
  },
  {
   "cell_type": "code",
   "execution_count": 53,
   "metadata": {},
   "outputs": [
    {
     "ename": "KeyError",
     "evalue": "0",
     "output_type": "error",
     "traceback": [
      "\u001b[0;31m---------------------------------------------------------------------------\u001b[0m",
      "\u001b[0;31mKeyError\u001b[0m                                  Traceback (most recent call last)",
      "File \u001b[0;32m~/opt/anaconda3/envs/pyt38/lib/python3.8/site-packages/pandas/core/indexes/base.py:3802\u001b[0m, in \u001b[0;36mIndex.get_loc\u001b[0;34m(self, key, method, tolerance)\u001b[0m\n\u001b[1;32m   3801\u001b[0m \u001b[38;5;28;01mtry\u001b[39;00m:\n\u001b[0;32m-> 3802\u001b[0m     \u001b[38;5;28;01mreturn\u001b[39;00m \u001b[38;5;28;43mself\u001b[39;49m\u001b[38;5;241;43m.\u001b[39;49m\u001b[43m_engine\u001b[49m\u001b[38;5;241;43m.\u001b[39;49m\u001b[43mget_loc\u001b[49m\u001b[43m(\u001b[49m\u001b[43mcasted_key\u001b[49m\u001b[43m)\u001b[49m\n\u001b[1;32m   3803\u001b[0m \u001b[38;5;28;01mexcept\u001b[39;00m \u001b[38;5;167;01mKeyError\u001b[39;00m \u001b[38;5;28;01mas\u001b[39;00m err:\n",
      "File \u001b[0;32m~/opt/anaconda3/envs/pyt38/lib/python3.8/site-packages/pandas/_libs/index.pyx:138\u001b[0m, in \u001b[0;36mpandas._libs.index.IndexEngine.get_loc\u001b[0;34m()\u001b[0m\n",
      "File \u001b[0;32m~/opt/anaconda3/envs/pyt38/lib/python3.8/site-packages/pandas/_libs/index.pyx:165\u001b[0m, in \u001b[0;36mpandas._libs.index.IndexEngine.get_loc\u001b[0;34m()\u001b[0m\n",
      "File \u001b[0;32mpandas/_libs/hashtable_class_helper.pxi:2263\u001b[0m, in \u001b[0;36mpandas._libs.hashtable.Int64HashTable.get_item\u001b[0;34m()\u001b[0m\n",
      "File \u001b[0;32mpandas/_libs/hashtable_class_helper.pxi:2273\u001b[0m, in \u001b[0;36mpandas._libs.hashtable.Int64HashTable.get_item\u001b[0;34m()\u001b[0m\n",
      "\u001b[0;31mKeyError\u001b[0m: 0",
      "\nThe above exception was the direct cause of the following exception:\n",
      "\u001b[0;31mKeyError\u001b[0m                                  Traceback (most recent call last)",
      "Cell \u001b[0;32mIn[53], line 1\u001b[0m\n\u001b[0;32m----> 1\u001b[0m \u001b[43mdf\u001b[49m\u001b[43m[\u001b[49m\u001b[43mdf\u001b[49m\u001b[43m[\u001b[49m\u001b[38;5;124;43m'\u001b[39;49m\u001b[38;5;124;43mfilter\u001b[39;49m\u001b[38;5;124;43m'\u001b[39;49m\u001b[43m]\u001b[49m\u001b[43m \u001b[49m\u001b[38;5;241;43m==\u001b[39;49m\u001b[43m \u001b[49m\u001b[38;5;124;43m'\u001b[39;49m\u001b[38;5;124;43mZTF_\u001b[39;49m\u001b[38;5;124;43m'\u001b[39;49m\u001b[38;5;241;43m+\u001b[39;49m\u001b[43mb\u001b[49m\u001b[43m]\u001b[49m\u001b[43m[\u001b[49m\u001b[38;5;124;43m'\u001b[39;49m\u001b[38;5;124;43mmagerr\u001b[39;49m\u001b[38;5;124;43m'\u001b[39;49m\u001b[43m]\u001b[49m\u001b[43m[\u001b[49m\u001b[38;5;241;43m0\u001b[39;49m\u001b[43m]\u001b[49m\n",
      "File \u001b[0;32m~/opt/anaconda3/envs/pyt38/lib/python3.8/site-packages/pandas/core/series.py:981\u001b[0m, in \u001b[0;36mSeries.__getitem__\u001b[0;34m(self, key)\u001b[0m\n\u001b[1;32m    978\u001b[0m     \u001b[38;5;28;01mreturn\u001b[39;00m \u001b[38;5;28mself\u001b[39m\u001b[38;5;241m.\u001b[39m_values[key]\n\u001b[1;32m    980\u001b[0m \u001b[38;5;28;01melif\u001b[39;00m key_is_scalar:\n\u001b[0;32m--> 981\u001b[0m     \u001b[38;5;28;01mreturn\u001b[39;00m \u001b[38;5;28;43mself\u001b[39;49m\u001b[38;5;241;43m.\u001b[39;49m\u001b[43m_get_value\u001b[49m\u001b[43m(\u001b[49m\u001b[43mkey\u001b[49m\u001b[43m)\u001b[49m\n\u001b[1;32m    983\u001b[0m \u001b[38;5;28;01mif\u001b[39;00m is_hashable(key):\n\u001b[1;32m    984\u001b[0m     \u001b[38;5;66;03m# Otherwise index.get_value will raise InvalidIndexError\u001b[39;00m\n\u001b[1;32m    985\u001b[0m     \u001b[38;5;28;01mtry\u001b[39;00m:\n\u001b[1;32m    986\u001b[0m         \u001b[38;5;66;03m# For labels that don't resolve as scalars like tuples and frozensets\u001b[39;00m\n",
      "File \u001b[0;32m~/opt/anaconda3/envs/pyt38/lib/python3.8/site-packages/pandas/core/series.py:1089\u001b[0m, in \u001b[0;36mSeries._get_value\u001b[0;34m(self, label, takeable)\u001b[0m\n\u001b[1;32m   1086\u001b[0m     \u001b[38;5;28;01mreturn\u001b[39;00m \u001b[38;5;28mself\u001b[39m\u001b[38;5;241m.\u001b[39m_values[label]\n\u001b[1;32m   1088\u001b[0m \u001b[38;5;66;03m# Similar to Index.get_value, but we do not fall back to positional\u001b[39;00m\n\u001b[0;32m-> 1089\u001b[0m loc \u001b[38;5;241m=\u001b[39m \u001b[38;5;28;43mself\u001b[39;49m\u001b[38;5;241;43m.\u001b[39;49m\u001b[43mindex\u001b[49m\u001b[38;5;241;43m.\u001b[39;49m\u001b[43mget_loc\u001b[49m\u001b[43m(\u001b[49m\u001b[43mlabel\u001b[49m\u001b[43m)\u001b[49m\n\u001b[1;32m   1090\u001b[0m \u001b[38;5;28;01mreturn\u001b[39;00m \u001b[38;5;28mself\u001b[39m\u001b[38;5;241m.\u001b[39mindex\u001b[38;5;241m.\u001b[39m_get_values_for_loc(\u001b[38;5;28mself\u001b[39m, loc, label)\n",
      "File \u001b[0;32m~/opt/anaconda3/envs/pyt38/lib/python3.8/site-packages/pandas/core/indexes/base.py:3804\u001b[0m, in \u001b[0;36mIndex.get_loc\u001b[0;34m(self, key, method, tolerance)\u001b[0m\n\u001b[1;32m   3802\u001b[0m     \u001b[38;5;28;01mreturn\u001b[39;00m \u001b[38;5;28mself\u001b[39m\u001b[38;5;241m.\u001b[39m_engine\u001b[38;5;241m.\u001b[39mget_loc(casted_key)\n\u001b[1;32m   3803\u001b[0m \u001b[38;5;28;01mexcept\u001b[39;00m \u001b[38;5;167;01mKeyError\u001b[39;00m \u001b[38;5;28;01mas\u001b[39;00m err:\n\u001b[0;32m-> 3804\u001b[0m     \u001b[38;5;28;01mraise\u001b[39;00m \u001b[38;5;167;01mKeyError\u001b[39;00m(key) \u001b[38;5;28;01mfrom\u001b[39;00m \u001b[38;5;21;01merr\u001b[39;00m\n\u001b[1;32m   3805\u001b[0m \u001b[38;5;28;01mexcept\u001b[39;00m \u001b[38;5;167;01mTypeError\u001b[39;00m:\n\u001b[1;32m   3806\u001b[0m     \u001b[38;5;66;03m# If we have a listlike key, _check_indexing_error will raise\u001b[39;00m\n\u001b[1;32m   3807\u001b[0m     \u001b[38;5;66;03m#  InvalidIndexError. Otherwise we fall through and re-raise\u001b[39;00m\n\u001b[1;32m   3808\u001b[0m     \u001b[38;5;66;03m#  the TypeError.\u001b[39;00m\n\u001b[1;32m   3809\u001b[0m     \u001b[38;5;28mself\u001b[39m\u001b[38;5;241m.\u001b[39m_check_indexing_error(key)\n",
      "\u001b[0;31mKeyError\u001b[0m: 0"
     ]
    }
   ],
   "source": [
    "df[df['filter'] == 'ZTF_'+b]['magerr'][0]"
   ]
  },
  {
   "cell_type": "code",
   "execution_count": 14,
   "metadata": {},
   "outputs": [
    {
     "data": {
      "text/plain": [
       "Series([], Name: magunc, dtype: float64)"
      ]
     },
     "execution_count": 14,
     "metadata": {},
     "output_type": "execute_result"
    }
   ],
   "source": [
    "df[df['filter'] == b].reset_index()['magunc']"
   ]
  },
  {
   "cell_type": "code",
   "execution_count": 10,
   "metadata": {},
   "outputs": [
    {
     "data": {
      "text/plain": [
       "0      ZTF_g\n",
       "1      ZTF_g\n",
       "2      ZTF_g\n",
       "3      ZTF_g\n",
       "4      ZTF_r\n",
       "       ...  \n",
       "428    ZTF_g\n",
       "429    ZTF_g\n",
       "430    ZTF_r\n",
       "431    ZTF_g\n",
       "432    ZTF_r\n",
       "Name: filter, Length: 433, dtype: object"
      ]
     },
     "execution_count": 10,
     "metadata": {},
     "output_type": "execute_result"
    }
   ],
   "source": [
    "df['filter']"
   ]
  },
  {
   "cell_type": "code",
   "execution_count": null,
   "metadata": {},
   "outputs": [],
   "source": []
  }
 ],
 "metadata": {
  "kernelspec": {
   "display_name": "Python 3 (ipykernel)",
   "language": "python",
   "name": "python3"
  },
  "language_info": {
   "codemirror_mode": {
    "name": "ipython",
    "version": 3
   },
   "file_extension": ".py",
   "mimetype": "text/x-python",
   "name": "python",
   "nbconvert_exporter": "python",
   "pygments_lexer": "ipython3",
   "version": "3.8.18"
  }
 },
 "nbformat": 4,
 "nbformat_minor": 4
}
