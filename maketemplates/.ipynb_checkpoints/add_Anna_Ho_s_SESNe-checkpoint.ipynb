{
 "cells": [
  {
   "cell_type": "code",
   "execution_count": 2,
   "metadata": {},
   "outputs": [],
   "source": [
    "import numpy as np\n",
    "import pandas as pd\n",
    "import matplotlib.pyplot as plt\n",
    "import pandas as pd"
   ]
  },
  {
   "cell_type": "code",
   "execution_count": 2,
   "metadata": {},
   "outputs": [],
   "source": [
    "new_lc = []\n",
    "with open(\"data/paper_table_ztf-lc.txt\") as fp:\n",
    "    Lines = fp.readlines()\n",
    "    for line in Lines:\n",
    "        new_lc.append(line.split(' & '))\n",
    "        "
   ]
  },
  {
   "cell_type": "code",
   "execution_count": 3,
   "metadata": {},
   "outputs": [
    {
     "data": {
      "text/plain": [
       "array(['r', 'r', 'r', ..., 'i', 'z', 'i'], dtype='<U26')"
      ]
     },
     "execution_count": 3,
     "metadata": {},
     "output_type": "execute_result"
    }
   ],
   "source": [
    "np.asarray(new_lc)[:,1]"
   ]
  },
  {
   "cell_type": "code",
   "execution_count": 4,
   "metadata": {},
   "outputs": [],
   "source": [
    "df = pd.DataFrame({'name': np.asarray(new_lc)[:,0],\n",
    "                   'band': np.asarray(new_lc)[:,1],\n",
    "                   'JD': np.asarray(new_lc)[:,2],\n",
    "                   'flux': np.asarray(new_lc)[:,3],\n",
    "                   'eflux': np.asarray(new_lc)[:,4],\n",
    "                   'mag': np.asarray(new_lc)[:,5],\n",
    "                   'emag': np.asarray(new_lc)[:,6]})"
   ]
  },
  {
   "cell_type": "code",
   "execution_count": 5,
   "metadata": {},
   "outputs": [],
   "source": [
    "# df.groupby('name').size().keys()[1:]\n",
    "names = np.unique(np.asarray(new_lc)[:,0])[1:]"
   ]
  },
  {
   "cell_type": "code",
   "execution_count": 6,
   "metadata": {},
   "outputs": [],
   "source": [
    "shortnames = names.copy()\n",
    "for i,name in enumerate(shortnames):\n",
    "    if name.split('20')[1] == '':\n",
    "        shortnames[i] = 'sn20'+ name.split('20')[2]\n",
    "    else:\n",
    "        shortnames[i] = 'sn'+ name.split('20')[1]"
   ]
  },
  {
   "cell_type": "code",
   "execution_count": 100,
   "metadata": {},
   "outputs": [],
   "source": [
    "for i,name in enumerate(shortnames):\n",
    "    sn = df[df.name == names[i]].reset_index()\n",
    "    fileout = open(\"./../literaturedata/slc.\" + name + \".f\", \"w\")\n",
    "    bands = sn.groupby('band').size().keys()\n",
    "    \n",
    "    for i, b in enumerate(bands):\n",
    "        if b in ['UVW1', 'UVW2', 'UVM2', 'H', 'Ks', 'J']:\n",
    "            continue\n",
    "        \n",
    "        \n",
    "        for j, t in enumerate(sn[sn.band == b].reset_index()['JD']):\n",
    "            \n",
    "            dm = sn[sn.band == b].reset_index()['emag'][j]\n",
    "            \n",
    "            if float(dm) > 90:\n",
    "                continue\n",
    "#                 dm = 1\n",
    "        \n",
    "            fileout.write('{0} {1} {2} {3} {4} {5}\\n'.format(b + 'l', t, 'nan', 'nan', dm,\n",
    "                                                             sn[sn.band == b].reset_index()['mag'][j]))\n",
    "    fileout.close()"
   ]
  },
  {
   "cell_type": "markdown",
   "metadata": {},
   "source": [
    "# IIb SNe ZTF forced photometry"
   ]
  },
  {
   "cell_type": "code",
   "execution_count": 16,
   "metadata": {},
   "outputs": [],
   "source": [
    "path = 'data/ZTF_ForcedPhot/'\n",
    "peaks = {'SN2020xlt':59141.45,\n",
    "         'SN2018gjx':58379.44,\n",
    "         'SN2020rsc':59081.47,\n",
    "         'SN2019rta':58759.43,\n",
    "         'SN2020ano':58871.45,\n",
    "         'SN2020ikq':58971.30\n",
    "        }"
   ]
  },
  {
   "cell_type": "code",
   "execution_count": 17,
   "metadata": {},
   "outputs": [
    {
     "name": "stdout",
     "output_type": "stream",
     "text": [
      "SN2020xlt\n",
      "g\n",
      "r\n",
      "SN2018gjx\n",
      "g\n",
      "i\n",
      "r\n",
      "SN2020rsc\n",
      "g\n",
      "i\n",
      "r\n",
      "SN2019rta\n",
      "g\n",
      "r\n",
      "SN2020ano\n",
      "g\n",
      "i\n",
      "r\n",
      "SN2020ikq\n",
      "g\n",
      "i\n",
      "r\n"
     ]
    }
   ],
   "source": [
    "for name in peaks.keys():\n",
    "    \n",
    "    print(name)\n",
    "    filepath = path+'{}_lc.txt'.format(name)\n",
    "    df = pd.read_csv(path+name+'.csv')\n",
    "    if name.split('20')[1] == '':\n",
    "        shortname = 'sn20'+ name.split('20')[2]\n",
    "    else:\n",
    "        shortname = 'sn'+ name.split('20')[1]\n",
    "        \n",
    "    fileout = open(\"./../literaturedata/phot/slc.\" + shortname + \".f\", \"w\")\n",
    "    bands = [df.groupby('filter').size().keys()[i].split('_')[1] for i in range(len(df.groupby('filter').size().keys()))]\n",
    "    \n",
    "    for i, b in enumerate(bands):\n",
    "        print(b)\n",
    "        \n",
    "        if b in ['UVW1', 'UVW2', 'UVM2', 'H', 'Ks', 'J']:\n",
    "            continue\n",
    "        \n",
    "        \n",
    "        for j, t in enumerate(df[df['filter'] == 'ZTF_'+b].reset_index()['jd']):\n",
    "            \n",
    "            dm = df[df['filter'] == 'ZTF_'+b].reset_index()['magunc'][j]\n",
    "            \n",
    "            if float(dm) > 90:\n",
    "                continue\n",
    "#                 dm = 1\n",
    "        \n",
    "            fileout.write('{0} {1} {2} {3} {4} {5}\\n'.format(b + 'l', t, 'nan', 'nan', dm,\n",
    "                                                             df[df['filter'] == 'ZTF_'+b].reset_index()['mag'][j]))\n",
    "    fileout.close()\n",
    "    \n",
    "    \n",
    "    \n"
   ]
  },
  {
   "cell_type": "code",
   "execution_count": 14,
   "metadata": {},
   "outputs": [
    {
     "data": {
      "text/plain": [
       "Series([], Name: magunc, dtype: float64)"
      ]
     },
     "execution_count": 14,
     "metadata": {},
     "output_type": "execute_result"
    }
   ],
   "source": [
    "df[df['filter'] == b].reset_index()['magunc']"
   ]
  },
  {
   "cell_type": "code",
   "execution_count": 10,
   "metadata": {},
   "outputs": [
    {
     "data": {
      "text/plain": [
       "0      ZTF_g\n",
       "1      ZTF_g\n",
       "2      ZTF_g\n",
       "3      ZTF_g\n",
       "4      ZTF_r\n",
       "       ...  \n",
       "428    ZTF_g\n",
       "429    ZTF_g\n",
       "430    ZTF_r\n",
       "431    ZTF_g\n",
       "432    ZTF_r\n",
       "Name: filter, Length: 433, dtype: object"
      ]
     },
     "execution_count": 10,
     "metadata": {},
     "output_type": "execute_result"
    }
   ],
   "source": [
    "df['filter']"
   ]
  },
  {
   "cell_type": "code",
   "execution_count": null,
   "metadata": {},
   "outputs": [],
   "source": []
  }
 ],
 "metadata": {
  "kernelspec": {
   "display_name": "Python 3 (ipykernel)",
   "language": "python",
   "name": "python3"
  },
  "language_info": {
   "codemirror_mode": {
    "name": "ipython",
    "version": 3
   },
   "file_extension": ".py",
   "mimetype": "text/x-python",
   "name": "python",
   "nbconvert_exporter": "python",
   "pygments_lexer": "ipython3",
   "version": "3.8.18"
  }
 },
 "nbformat": 4,
 "nbformat_minor": 2
}
