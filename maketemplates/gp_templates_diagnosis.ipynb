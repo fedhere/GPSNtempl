{
 "cells": [
  {
   "cell_type": "code",
   "execution_count": 1,
   "metadata": {},
   "outputs": [],
   "source": [
    "import numpy as np\n",
    "import matplotlib.pyplot as plt\n",
    "import pickle as pkl\n",
    "import george\n",
    "from george import kernels\n",
    "from george.kernels import ExpSquaredKernel"
   ]
  },
  {
   "cell_type": "code",
   "execution_count": 5,
   "metadata": {},
   "outputs": [],
   "source": [
    "dt = 0.5\n",
    "t = np.arange(-15,50,dt)"
   ]
  },
  {
   "cell_type": "code",
   "execution_count": 6,
   "metadata": {},
   "outputs": [],
   "source": [
    "mus = np.load('mus.npy')\n",
    "stds = np.load('stds.npy')\n",
    "musShifted = np.load('musShifted.npy')\n",
    "stdsShifted = np.load('stdsShifted.npy')"
   ]
  },
  {
   "cell_type": "code",
   "execution_count": 17,
   "metadata": {},
   "outputs": [
    {
     "data": {
      "image/png": "[encoded data removed]",
      "text/plain": [
       "<Figure size 432x288 with 1 Axes>"
      ]
     },
     "metadata": {
      "needs_background": "light"
     },
     "output_type": "display_data"
    }
   ],
   "source": [
    "for lc in musShifted[:,0,:]:\n",
    "    plt.plot(lc)"
   ]
  },
  {
   "cell_type": "code",
   "execution_count": 5,
   "metadata": {},
   "outputs": [
    {
     "ename": "NameError",
     "evalue": "name 'j' is not defined",
     "output_type": "error",
     "traceback": [
      "\u001b[0;31m---------------------------------------------------------------------------\u001b[0m",
      "\u001b[0;31mNameError\u001b[0m                                 Traceback (most recent call last)",
      "\u001b[0;32m<ipython-input-5-b22f5e29389e>\u001b[0m in \u001b[0;36m<module>\u001b[0;34m\u001b[0m\n\u001b[0;32m----> 1\u001b[0;31m \u001b[0mmdata\u001b[0m \u001b[0;34m=\u001b[0m \u001b[0mnp\u001b[0m\u001b[0;34m.\u001b[0m\u001b[0mma\u001b[0m\u001b[0;34m.\u001b[0m\u001b[0mfilled\u001b[0m\u001b[0;34m(\u001b[0m\u001b[0mmusShifted\u001b[0m\u001b[0;34m[\u001b[0m\u001b[0;34m:\u001b[0m\u001b[0;34m,\u001b[0m\u001b[0mj\u001b[0m\u001b[0;34m,\u001b[0m\u001b[0;34m:\u001b[0m\u001b[0;34m]\u001b[0m\u001b[0;34m[\u001b[0m\u001b[0;34m:\u001b[0m\u001b[0;34m,\u001b[0m\u001b[0mindx\u001b[0m\u001b[0;34m]\u001b[0m\u001b[0;34m,\u001b[0m \u001b[0mnp\u001b[0m\u001b[0;34m.\u001b[0m\u001b[0mnan\u001b[0m\u001b[0;34m)\u001b[0m\u001b[0;34m\u001b[0m\u001b[0;34m\u001b[0m\u001b[0m\n\u001b[0m\u001b[1;32m      2\u001b[0m \u001b[0mnp\u001b[0m\u001b[0;34m.\u001b[0m\u001b[0mnanpercentile\u001b[0m\u001b[0;34m(\u001b[0m\u001b[0mmdata\u001b[0m\u001b[0;34m,\u001b[0m \u001b[0;34m[\u001b[0m\u001b[0;36m25\u001b[0m\u001b[0;34m,\u001b[0m \u001b[0;36m50\u001b[0m\u001b[0;34m,\u001b[0m \u001b[0;36m75\u001b[0m\u001b[0;34m]\u001b[0m\u001b[0;34m)\u001b[0m\u001b[0;34m\u001b[0m\u001b[0;34m\u001b[0m\u001b[0m\n",
      "\u001b[0;31mNameError\u001b[0m: name 'j' is not defined"
     ]
    }
   ],
   "source": [
    "mdata = np.ma.filled(musShifted[:,j,:][:,indx], np.nan)\n",
    "np.nanpercentile(mdata, [25, 50, 75])"
   ]
  },
  {
   "cell_type": "code",
   "execution_count": 6,
   "metadata": {},
   "outputs": [],
   "source": [
    "mask = np.isnan(mus) + ~np.isfinite(mus) +\\\n",
    "                                   np.isnan(stds) + ~np.isfinite(stds) +\\\n",
    "                                   ~np.isfinite(1.0/stds)\n",
    "maskShifted = np.isnan(musShifted) + ~np.isfinite(musShifted) +\\\n",
    "                                   np.isnan(stdsShifted) + ~np.isfinite(stdsShifted) +\\\n",
    "                                   ~np.isfinite(1.0/stdsShifted)"
   ]
  },
  {
   "cell_type": "code",
   "execution_count": 7,
   "metadata": {},
   "outputs": [],
   "source": [
    "mus = np.ma.masked_array(mus, mask)\n",
    "stds = np.ma.masked_array(stds, mask)\n",
    "\n",
    "\n",
    "\n",
    "\n",
    "\n",
    "musShifted = np.ma.masked_array(musShifted, maskShifted)\n",
    "stdsShifted = np.ma.masked_array(stdsShifted, maskShifted)\n",
    "\n"
   ]
  },
  {
   "cell_type": "code",
   "execution_count": 8,
   "metadata": {},
   "outputs": [],
   "source": [
    "mu_ = []\n",
    "std_ = []\n",
    "mushifted_ = []\n",
    "stdshifted_ = []\n",
    "\n",
    "l = 8\n",
    "\n",
    "for i, j in enumerate(mus[:,l]):\n",
    "    if(np.sum(~np.isnan(j)))>0:\n",
    "        mu_.append(j)\n",
    "        \n",
    "    if(np.sum(~np.isnan(stds[i,0])))>0:\n",
    "        std_.append(stds[i,0])\n",
    "        \n",
    "for i, j in enumerate(musShifted[:,l]):\n",
    "    if(np.sum(~np.isnan(j)))>0:\n",
    "        mushifted_.append(j)\n",
    "        \n",
    "    if(np.sum(~np.isnan(stdsShifted[i,0])))>0:\n",
    "        stdshifted_.append(stds[i,0])\n",
    "        \n",
    "#     print(stdsShifted[i,0])\n",
    "    \n",
    "    "
   ]
  },
  {
   "cell_type": "code",
   "execution_count": 10,
   "metadata": {},
   "outputs": [],
   "source": [
    "j = l\n",
    "avg = np.zeros(130)*np.nan\n",
    "std = np.zeros(130)*np.nan\n",
    "mean = np.zeros(130)*np.nan\n",
    "for i in range(130):\n",
    "    \n",
    "    if len(musShifted[:,j,:][:,i][~musShifted[:,j,:][:,i].mask])<2:\n",
    "        continue\n",
    "#     print((musShifted[:,j,:][:,i][~musShifted[:,j,:][:,i].mask]))\n",
    "    avg[i] = (np.ma.average(musShifted[:,j,:][:,i], weights = 1.0/stdsShifted[:,j,:][:,i]**2))\n",
    "    std[i] = np.ma.std(stdsShifted[:,j,:][:,i],axis=0)\n",
    "    mean[i] = np.ma.mean(musShifted[:,j,:][:,i])\n",
    "#     print(t[i],(musShifted[:,j,:][:,i][~musShifted[:,j,:][:,i].mask]), avg[i], mean[i])\n",
    "\n"
   ]
  },
  {
   "cell_type": "code",
   "execution_count": 30,
   "metadata": {},
   "outputs": [
    {
     "data": {
      "text/plain": [
       "array([0, 0, 0, 0, 0, 0, 0, 0, 0, 0, 0, 0, 0, 0, 0, 0, 0, 0, 0, 0, 0, 0,\n",
       "       0, 0, 0, 0, 0, 0, 0, 0, 0, 0, 0, 0, 0, 0, 0, 0, 0, 0, 0, 0, 0, 0,\n",
       "       0, 0, 0, 0, 0, 0, 0, 0, 0, 0, 0, 0, 0, 0, 0, 0, 0, 0, 0, 0, 0, 0,\n",
       "       0, 0, 0, 0, 0, 0, 0, 0, 0, 0, 0, 0, 0, 0, 0, 0, 0, 0, 0, 0, 0, 0,\n",
       "       0, 0, 0, 0, 0, 0, 0, 0, 0, 0, 0, 0, 0, 0, 0, 0, 0, 0, 0, 0, 0, 0,\n",
       "       0, 0, 0, 0, 0, 0, 0, 0, 0, 0, 0, 0, 0, 0, 0, 0, 0, 0, 0, 0, 0, 0,\n",
       "       0, 0, 0, 0, 0, 0, 0, 0, 0, 0, 0, 0, 0, 0, 0, 0, 0, 0, 0, 0, 0, 0,\n",
       "       0, 0, 0, 0, 0, 0, 0, 0, 0, 0, 0, 0])"
      ]
     },
     "execution_count": 30,
     "metadata": {},
     "output_type": "execute_result"
    }
   ],
   "source": [
    "(np.ma.count(musShifted[:,j,:][:,indx], axis = 1))"
   ]
  },
  {
   "cell_type": "code",
   "execution_count": 13,
   "metadata": {},
   "outputs": [
    {
     "name": "stdout",
     "output_type": "stream",
     "text": [
      "3\n",
      "4\n",
      "5\n",
      "6\n",
      "6\n",
      "6\n",
      "6\n",
      "6\n",
      "6\n",
      "6\n",
      "6\n",
      "6\n",
      "6\n",
      "6\n",
      "6\n",
      "6\n",
      "6\n",
      "6\n",
      "6\n",
      "6\n",
      "6\n",
      "6\n",
      "6\n",
      "6\n",
      "6\n",
      "6\n",
      "6\n",
      "6\n",
      "6\n",
      "6\n",
      "6\n",
      "6\n",
      "6\n",
      "6\n",
      "6\n",
      "6\n",
      "6\n",
      "6\n",
      "6\n",
      "6\n",
      "6\n",
      "6\n",
      "6\n",
      "6\n",
      "6\n",
      "6\n",
      "6\n",
      "6\n",
      "6\n",
      "6\n",
      "6\n",
      "6\n",
      "6\n",
      "6\n",
      "6\n",
      "6\n",
      "6\n",
      "6\n",
      "6\n",
      "6\n",
      "6\n",
      "6\n",
      "6\n",
      "6\n",
      "6\n",
      "6\n",
      "6\n",
      "6\n",
      "6\n",
      "6\n",
      "6\n",
      "6\n",
      "6\n",
      "6\n",
      "6\n",
      "6\n",
      "6\n",
      "6\n",
      "6\n",
      "6\n",
      "6\n",
      "6\n",
      "6\n",
      "6\n",
      "6\n",
      "6\n",
      "6\n",
      "6\n",
      "6\n",
      "6\n",
      "6\n",
      "6\n",
      "6\n",
      "6\n",
      "6\n",
      "6\n",
      "6\n",
      "6\n",
      "6\n",
      "6\n",
      "6\n",
      "6\n",
      "6\n",
      "6\n",
      "6\n",
      "6\n",
      "6\n",
      "6\n",
      "6\n",
      "6\n",
      "6\n",
      "6\n",
      "6\n",
      "6\n",
      "6\n",
      "6\n",
      "6\n",
      "6\n",
      "6\n",
      "6\n",
      "6\n",
      "6\n",
      "6\n",
      "6\n",
      "6\n",
      "6\n",
      "6\n",
      "6\n",
      "5\n",
      "4\n"
     ]
    }
   ],
   "source": [
    "window = 3\n",
    "N = len(t)\n",
    "wmu = np.zeros(N) * np.nan\n",
    "med = np.zeros(N) * np.nan\n",
    "std = np.zeros(N) * np.nan\n",
    "wstd = np.zeros(N) * np.nan\n",
    "for i, hour in enumerate(t):\n",
    "    # i need at least 1 datapoint within 3 hours of the target hour (to take median)\n",
    "    indx = (t >= hour - 0.5*window) * (t < hour + 0.5*window)\n",
    "    #print (i, hour + window/2., indx.sum())\n",
    "\n",
    "    #remove if less than 3 datapoints within 4 hours\n",
    "\n",
    "    print(indx.sum())\n",
    "    if indx.sum()<2: #< 3:\n",
    "        \n",
    "        continue\n",
    "    \n",
    "    if np.sum(np.ma.count(musShifted[:,j,:][:,indx], axis = 1)/indx.sum())<2.0:\n",
    "        continue\n",
    "\n",
    "    #weighted average weighted by errorbars within hour and hour+window\n",
    "\n",
    "    weights = 1.0 / ((stdsShifted[:,j,:][:,indx])**2)\n",
    "\n",
    "    wmu[i] = np.ma.average(musShifted[:,j,:][:,indx],\n",
    "                        weights=weights)\n",
    "    \n",
    "    std[i] = np.ma.std(stdsShifted[:,j,:][:,indx]) \n",
    "\n",
    "    wstd[i] = np.ma.average((musShifted[:,j,:][:,indx]-wmu[i])**2,\n",
    "                         weights=weights)"
   ]
  },
  {
   "cell_type": "code",
   "execution_count": 12,
   "metadata": {},
   "outputs": [
    {
     "data": {
      "text/plain": [
       "<matplotlib.lines.Line2D at 0x7fdf885e5450>"
      ]
     },
     "execution_count": 12,
     "metadata": {},
     "output_type": "execute_result"
    },
    {
     "data": {
      "image/png": "[encoded data removed]",
      "text/plain": [
       "<Figure size 432x288 with 1 Axes>"
      ]
     },
     "metadata": {
      "needs_background": "light"
     },
     "output_type": "display_data"
    }
   ],
   "source": [
    "c = 0\n",
    "for i in mushifted_:\n",
    "#     print(c)\n",
    "    plt.plot(t,i,'.')\n",
    "    c +=1\n",
    "# plt.plot(t,avg, 'r-')\n",
    "# plt.fill_between(t, avg-std, avg+std)\n",
    "# plt.plot(t,mean, '-')\n",
    "plt.plot(t,wmu, 'k-', linewidth=2)\n",
    "plt.fill_between(t, wmu - wstd, wmu + wstd, color = 'grey', alpha=0.4)\n",
    "# plt.plot(t,mu_[-6],'.')\n",
    "# plt.plot(t,mu_[-2],'.')\n",
    "# plt.plot(t,mushifted_[-6],'.')\n",
    "# plt.plot(t,mushifted_new,'.')\n",
    "plt.axvline(t.min())\n",
    "plt.axvline(0)\n",
    "plt.axvline(t.max())\n",
    "# plt.xlim(-15,0)"
   ]
  },
  {
   "cell_type": "code",
   "execution_count": 7,
   "metadata": {},
   "outputs": [],
   "source": [
    "# i = mu_[-6]\n",
    "# i_std = std_[-6]\n",
    "\n",
    "# truemax = np.where(np.array(i == np.nanmax(i[tcore])))[0][0]\n",
    "# t2 = t-t[truemax]\n",
    "# t20 = np.where(t2==0)[0][0]\n",
    "# tmin, tmax = t2.min(), t2.max()\n",
    "# yoffset = i[t20]\n",
    "\n",
    "# mushifted_new = np.zeros(len(i))*np.nan\n",
    "# stdshifted_new = np.zeros(len(i))*np.nan\n",
    "\n",
    "# tcore = (t>-10) * (t<20)\n",
    "\n",
    "# if t.min()>tmin:\n",
    "#     ind_max = np.where(t == t.max()-t[truemax])[0][0]\n",
    "#     mushifted_new[:ind_max] = i[-ind_max:]\n",
    "#     stdshifted_new[:ind_max] = i_std[-ind_max:]\n",
    "    \n",
    "# else:\n",
    "#     ind_min = np.where(t == t.min()-t[truemax])[0][0]\n",
    "#     mushifted_new[ind_min:] = i[:-ind_min]\n",
    "#     stdshifted_new[ind_min:] = i_std[:-ind_min]\n",
    "    \n",
    "    \n",
    "\n",
    "\n"
   ]
  },
  {
   "cell_type": "code",
   "execution_count": 165,
   "metadata": {},
   "outputs": [],
   "source": [
    "x = (mus[:,j,:])"
   ]
  },
  {
   "cell_type": "code",
   "execution_count": 166,
   "metadata": {},
   "outputs": [
    {
     "data": {
      "text/plain": [
       "166"
      ]
     },
     "execution_count": 166,
     "metadata": {},
     "output_type": "execute_result"
    }
   ],
   "source": [
    "len(x[:,0])"
   ]
  },
  {
   "cell_type": "code",
   "execution_count": 221,
   "metadata": {},
   "outputs": [
    {
     "data": {
      "text/plain": [
       "[<matplotlib.lines.Line2D at 0x7f93e1b5a5d0>]"
      ]
     },
     "execution_count": 221,
     "metadata": {},
     "output_type": "execute_result"
    },
    {
     "data": {
      "image/png": "[encoded data removed]",
      "text/plain": [
       "<Figure size 432x288 with 1 Axes>"
      ]
     },
     "metadata": {
      "needs_background": "light"
     },
     "output_type": "display_data"
    }
   ],
   "source": [
    "plt.plot(t,avg, '.')\n",
    "plt.plot(t,mean, '.')\n",
    "# plt.plot(t, np.ma.average(musShifted[:,j,:], axis=0, weights = 1.0/stdsShifted[:,j,:]**2),'-')\n",
    "# plt.gca().invert_yaxis()"
   ]
  },
  {
   "cell_type": "code",
   "execution_count": 10,
   "metadata": {},
   "outputs": [],
   "source": []
  },
  {
   "cell_type": "code",
   "execution_count": 210,
   "metadata": {},
   "outputs": [],
   "source": [
    "# i = mu_[-1]\n",
    "# k = mu_[-1]\n",
    "# plt.plot(t, i, label= 'mu')\n",
    "# plt.plot(t, mushifted_new, label='mu shifted new')\n",
    "# plt.plot(t[:-truemax], i[:-truemax]+0.1, label='mus')\n",
    "# plt.plot(t[truemax:], i[truemax:]+0.5, label = 'musShifted')\n",
    "# plt.axvline(t.min())\n",
    "# plt.axvline(t.max())\n",
    "# plt.legend()\n"
   ]
  },
  {
   "cell_type": "code",
   "execution_count": 211,
   "metadata": {},
   "outputs": [],
   "source": [
    "# if tmin >= t[0]:\n",
    "\n",
    "#     musShifted[i][j][truemax:] = (mus[i][j] + meansmooth(t))[:-truemax]\n",
    "#     stdsShifted[i][j][truemax:] = std[:-truemax]\n",
    "\n",
    "# if tmin < t[0]:\n",
    "#     tstart = np.where(t2 == t[0])[0][0]\n",
    "#     musShifted[i][j][:-tstart] = (mus[i][j] + meansmooth(t) -\n",
    "#                                   yoffset)[tstart:]\n",
    "#     stdsShifted[i][j][:-tstart] = std[tstart:]"
   ]
  },
  {
   "cell_type": "code",
   "execution_count": null,
   "metadata": {},
   "outputs": [],
   "source": []
  }
 ],
 "metadata": {
  "kernelspec": {
   "display_name": "Python 3",
   "language": "python",
   "name": "python3"
  },
  "language_info": {
   "codemirror_mode": {
    "name": "ipython",
    "version": 3
   },
   "file_extension": ".py",
   "mimetype": "text/x-python",
   "name": "python",
   "nbconvert_exporter": "python",
   "pygments_lexer": "ipython3",
   "version": "3.7.4"
  }
 },
 "nbformat": 4,
 "nbformat_minor": 4
}
