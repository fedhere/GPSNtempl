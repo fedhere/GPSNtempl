{
 "cells": [
  {
   "cell_type": "code",
   "execution_count": 43,
   "id": "d9742cd8-ddd0-4931-9d01-92ed771bbd99",
   "metadata": {},
   "outputs": [],
   "source": [
    "import numpy as np\n",
    "import pandas as pd\n",
    "import matplotlib.pyplot as plt\n",
    "from glob import glob\n",
    "import gzip\n",
    "from astropy.io import fits\n",
    "from scipy.interpolate import interp1d\n",
    "from scipy.optimize import minimize\n",
    "import pickle as pkl\n",
    "from numpy import math\n",
    "import traceback\n",
    "import sys\n",
    "from scipy import interpolate\n",
    "\n",
    "from tqdm import tqdm\n",
    "from scipy.interpolate import InterpolatedUnivariateSpline\n",
    "\n",
    "from matplotlib.ticker import AutoMinorLocator\n",
    "import os\n",
    "\n",
    "cmd_folder = os.path.realpath(os.getenv(\"SESNCFAlib\"))\n",
    "\n",
    "if cmd_folder not in sys.path:\n",
    "     sys.path.insert(0, cmd_folder)\n",
    "        \n",
    "cmd_folder = '/Users/somayeh/Library/Mobile Documents/com~apple~CloudDocs/Research/SNe_templates/GPSNtempl_output/'\n",
    "\n",
    "if cmd_folder not in sys.path:\n",
    "     sys.path.insert(0, cmd_folder)\n",
    "        \n",
    "import templutils as templutils\n",
    "import snclasses as snstuff\n",
    "\n",
    "%matplotlib inline"
   ]
  },
  {
   "cell_type": "code",
   "execution_count": null,
   "id": "5be1b9ee-d00c-4188-90af-0ee7dcff2c70",
   "metadata": {},
   "outputs": [],
   "source": []
  },
  {
   "cell_type": "code",
   "execution_count": 44,
   "id": "71944f42-97d7-4a9f-b41e-6fe549b2fe94",
   "metadata": {},
   "outputs": [],
   "source": [
    "lc_direc = os.getenv(\"SESNPATH\") + './../Somayeh_contributions/main/ELASTICC_lc/'\n",
    "\n",
    "SNTYPES = ['Ib','IIb','Ic','Ic-bl', 'Ibn']\n",
    "\n",
    "bands = ['R','V','r','g','U','u','J','B','H','I','i','K','m2','w1','w2']\n",
    "colorTypes = {'IIb':'FireBrick',\n",
    "             'Ib':'SteelBlue',\n",
    "             'Ic':'DarkGreen',\n",
    "             'Ic-bl':'DarkOrange',\n",
    "             'Ibn':'purple'}"
   ]
  },
  {
   "cell_type": "code",
   "execution_count": 45,
   "id": "8c47d60b-58a7-466e-bce7-a4fbd75f7bf5",
   "metadata": {},
   "outputs": [
    {
     "name": "stdout",
     "output_type": "stream",
     "text": [
      "No GP template for type Ibn in band U\n",
      "No GP template for type Ic-bl in band up\n",
      "No GP template for type Ibn in band up\n",
      "No GP template for type Ibn in band J\n",
      "No GP template for type Ibn in band H\n",
      "No GP template for type IIb in band K\n",
      "No GP template for type Ic-bl in band K\n",
      "No GP template for type Ibn in band K\n",
      "No GP template for type Ib in band m2\n",
      "No GP template for type IIb in band m2\n",
      "No GP template for type Ic in band m2\n",
      "No GP template for type Ic-bl in band m2\n",
      "No GP template for type Ibn in band m2\n",
      "No GP template for type Ic in band w1\n",
      "No GP template for type Ic-bl in band w1\n",
      "No GP template for type Ibn in band w1\n",
      "No GP template for type Ib in band w2\n",
      "No GP template for type IIb in band w2\n",
      "No GP template for type Ic in band w2\n",
      "No GP template for type Ic-bl in band w2\n",
      "No GP template for type Ibn in band w2\n"
     ]
    }
   ],
   "source": [
    "# Reading in GP templates in any bands requested\n",
    "\n",
    "tmpl = {}\n",
    "\n",
    "bands2 = ['u','r', 'i']\n",
    "\n",
    "for bb in bands:\n",
    "    if bb in bands2:\n",
    "        bb += 'p'\n",
    "\n",
    "    tmpl[bb[0]] = {}\n",
    "\n",
    "    for SNTYPE in SNTYPES:\n",
    "        \n",
    "\n",
    "        path = os.getenv(\"SESNPATH\") + \"maketemplates/outputs/GP_template_files/GPalltemplfit_%s_%s_V0.pkl\"%(SNTYPE,bb)\n",
    "        if os.path.isfile(path):\n",
    "            tmpl_ = pkl.load(open(path, \"rb\"))\n",
    "        else:\n",
    "            print('No GP template for type %s in band %s'%(SNTYPE,bb))\n",
    "            continue\n",
    "        tmpl[bb[0]][SNTYPE] = {}\n",
    "        \n",
    "#         print(tmpl_['rollingMedian'])\n",
    "\n",
    "        # if np.nansum(tmpl_['rollingMedian']) == 0:\n",
    "        #     print(bb, SNTYPE)\n",
    "        #     continue\n",
    "\n",
    "        tmpl[bb[0]][SNTYPE] = tmpl_\n",
    "\n",
    "\n",
    "\n"
   ]
  },
  {
   "cell_type": "code",
   "execution_count": null,
   "id": "c7d4b50d-cf90-4d52-a4ea-78a0ef26723f",
   "metadata": {},
   "outputs": [],
   "source": []
  },
  {
   "cell_type": "code",
   "execution_count": 46,
   "id": "ac3d452f-3af0-4090-abc6-450ed5594794",
   "metadata": {},
   "outputs": [
    {
     "name": "stderr",
     "output_type": "stream",
     "text": [
      "/var/folders/6f/k2kn3hn52ws4kc_w0_zqfpy40000gp/T/ipykernel_19154/3930791728.py:13: DeprecationWarning: Please use `InterpolatedUnivariateSpline` from the `scipy.interpolate` namespace, the `scipy.interpolate.fitpack2` namespace is deprecated.\n",
      "  templates_ = pkl.load(open(path, \"rb\"))\n"
     ]
    }
   ],
   "source": [
    "bands = ['u', 'U', 'B', \n",
    "         'g', 'r', 'i', \n",
    "         'V', 'R', 'I', \n",
    "         'J', 'H', 'K',\n",
    "         'w1', 'm2', 'w2']\n",
    "templates = {}\n",
    "for b in bands:\n",
    "\n",
    "    templates[b] = {}\n",
    "\n",
    "    path = os.getenv(\"SESNPATH\") + \"maketemplates/outputs/Ibc_template_files/UberTemplate_%s.pkl\" %\\\n",
    "                                    (b + 'p' if b in ['u', 'r', 'i'] else b)\n",
    "    templates_ = pkl.load(open(path, \"rb\"))\n",
    "\n",
    "    templates[b] = templates_\n",
    "\n",
    "    if np.nansum(templates_['med_smoothed']) == 0:\n",
    "        print(b + ' band has no Ibc templates.')\n",
    "        continue"
   ]
  },
  {
   "cell_type": "code",
   "execution_count": 47,
   "id": "2f192116-74f7-417b-a224-337c579968c5",
   "metadata": {},
   "outputs": [],
   "source": [
    "sn_name = 'sn1994I'\n",
    "b = 'V'"
   ]
  },
  {
   "cell_type": "code",
   "execution_count": 48,
   "id": "f91e9b9b-20f0-4187-a36e-87ad0550b421",
   "metadata": {},
   "outputs": [
    {
     "name": "stdout",
     "output_type": "stream",
     "text": [
      "SN name short: 94I\n",
      "\n",
      "\n",
      "\n",
      "#######Optical & UV#######\n",
      "\n",
      "No CfA optical files\n",
      "all optical files: ['/Users/somayeh/Library/Mobile Documents/com~apple~CloudDocs/Research/SNe_templates/GPSNtempl/literaturedata/phot/slc.sn94I.f']\n",
      "\n",
      "\n",
      "#######NIR#######\n",
      "\n",
      "No CfA NIR files\n"
     ]
    }
   ],
   "source": [
    "thissn = snstuff.mysn(sn_name, addlit=True)"
   ]
  },
  {
   "cell_type": "code",
   "execution_count": 49,
   "id": "285cbd4e-7ff4-428a-9e6a-d1a6af02722a",
   "metadata": {},
   "outputs": [
    {
     "name": "stdout",
     "output_type": "stream",
     "text": [
      "0\n",
      "reading small file\n",
      "Vmax 2449451.9\n"
     ]
    },
    {
     "name": "stderr",
     "output_type": "stream",
     "text": [
      "/Users/somayeh/Library/Mobile Documents/com~apple~CloudDocs/Research/SNe_templates/SESNCFAlib/snclasses.py:5324: UserWarning: loadtxt: input contained no data: \"/Users/somayeh/Library/Mobile Documents/com~apple~CloudDocs/Research/SNe_templates/GPSNtempl/literaturedata/nirphot/94I.dat\"\n",
      "  self.nirlc = np.loadtxt(f, usecols=(0, 1, 2, 3), \\\n"
     ]
    }
   ],
   "source": [
    "lc, flux, dflux, snname = thissn.loadsn2(verbose=False)\n",
    "thissn.setphot()\n",
    "thissn.getphot(verbose=False)\n",
    "thissn.setphase(verbose=False)\n",
    "thissn.sortlc()\n",
    "input_file, snn = thissn.readinfofileall(verbose=False)"
   ]
  },
  {
   "cell_type": "code",
   "execution_count": 50,
   "id": "c18b9577-f982-4096-bd7d-286b81305958",
   "metadata": {},
   "outputs": [
    {
     "data": {
      "text/plain": [
       "'Ic'"
      ]
     },
     "execution_count": 50,
     "metadata": {},
     "output_type": "execute_result"
    }
   ],
   "source": [
    "thissn.type"
   ]
  },
  {
   "cell_type": "code",
   "execution_count": 99,
   "id": "801372a5-3080-4ad6-b264-8ba20eff1beb",
   "metadata": {},
   "outputs": [],
   "source": [
    "idx = np.lexsort([x, y])\n",
    "out = np.sort(idx[np.unique(x[idx], return_index=1)[1]])"
   ]
  },
  {
   "cell_type": "code",
   "execution_count": 105,
   "id": "2fe6ee64-64e3-4e01-be4a-4eea12e5b7a4",
   "metadata": {},
   "outputs": [
    {
     "data": {
      "text/plain": [
       "array([nan, nan, nan, nan, nan, nan, nan, nan, nan, nan, nan, nan, nan,\n",
       "       nan, nan, nan, nan, nan, nan, nan, nan, nan, nan, nan, nan, nan,\n",
       "       nan, nan, nan, nan, nan, nan, nan, nan, nan, nan, nan, nan, nan,\n",
       "       nan, nan, nan, nan, nan, nan, nan, nan, nan, nan, nan, nan, nan,\n",
       "       nan, nan, nan, nan, nan, nan, nan, nan, nan, nan, nan, nan, nan,\n",
       "       nan, nan, nan, nan, nan, nan, nan, nan, nan, nan, nan, nan, nan,\n",
       "       nan, nan, nan, nan, nan, nan, nan, nan, nan, nan, nan, nan, nan,\n",
       "       nan, nan, nan], dtype=float32)"
      ]
     },
     "execution_count": 105,
     "metadata": {},
     "output_type": "execute_result"
    }
   ],
   "source": [
    "y[out]"
   ]
  },
  {
   "cell_type": "code",
   "execution_count": 103,
   "id": "2fecab0e-a520-41d7-8529-d027e2968051",
   "metadata": {},
   "outputs": [
    {
     "data": {
      "text/plain": [
       "1"
      ]
     },
     "execution_count": 103,
     "metadata": {},
     "output_type": "execute_result"
    }
   ],
   "source": [
    "out\n",
    "len(np.unique(y[out]))"
   ]
  },
  {
   "cell_type": "code",
   "execution_count": 104,
   "id": "e68e3a5e-7cc5-4498-b8ea-ed8bfda7308f",
   "metadata": {},
   "outputs": [
    {
     "data": {
      "text/plain": [
       "94"
      ]
     },
     "execution_count": 104,
     "metadata": {},
     "output_type": "execute_result"
    }
   ],
   "source": [
    "len(y[out])"
   ]
  },
  {
   "cell_type": "code",
   "execution_count": 137,
   "id": "1492a5b3-6bbe-4cd8-aa53-be88c299ae44",
   "metadata": {},
   "outputs": [
    {
     "name": "stdout",
     "output_type": "stream",
     "text": [
      "1.427827182914374\n"
     ]
    },
    {
     "data": {
      "text/plain": [
       "Text(0.45, 0.95, 'Distance from template= 0 to 4 x IQR')"
      ]
     },
     "execution_count": 137,
     "metadata": {},
     "output_type": "execute_result"
    },
    {
     "data": {
      "image/png": "[encoded data removed]",
      "text/plain": [
       "<Figure size 640x480 with 1 Axes>"
      ]
     },
     "metadata": {},
     "output_type": "display_data"
    }
   ],
   "source": [
    "which_tmpl = 'gp'\n",
    "b = 'B'\n",
    "tp = 'Ic'\n",
    "\n",
    "xmin = thissn.photometry[b]['mjd'].min()\n",
    "x = thissn.photometry[b]['mjd']    \n",
    "y = thissn.photometry[b]['mag']\n",
    "\n",
    "yerr = thissn.photometry[b]['dmag']\n",
    "x = x - x[np.argmin(y)]\n",
    "# y = np.min(y)-y\n",
    "\n",
    "idx = np.lexsort([x, y])\n",
    "out = np.sort(idx[np.unique(x[idx], return_index=1)[1]])\n",
    "x = x[out]\n",
    "y = y[out]\n",
    "\n",
    "if which_tmpl == 'gp':\n",
    "    # tmpl_chosen = \n",
    "    # print(tmpl[b][tp].keys())\n",
    "    t = tmpl[b][tp]['t']\n",
    "    tmpl_med = tmpl[b][tp]['rollingMedian']\n",
    "    tmpl_med_up = tmpl[b][tp]['rollingPc75']\n",
    "    tmpl_med_low = tmpl[b][tp]['rollingPc25']\n",
    "    \n",
    "    t2 = t[(t <= x.max()) * (t >= x.min())]\n",
    "    u = interpolate.splrep(x, y, s=2.5)\n",
    "    y2 = interpolate.splev(t2, u)\n",
    "    \n",
    "    y2_min = np.min(y2)\n",
    "    y = y2_min - y\n",
    "    # y = np.min(y)-y\n",
    "    y2 = y2_min - y2\n",
    "    \n",
    "    IQR = np.abs(tmpl_med - tmpl_med_low)\n",
    "    metric = np.abs(y2 - tmpl_med_low[(t <= x.max()) * (t >= x.min())])/IQR[(t <= x.max()) * (t >= x.min())]\n",
    "    metric_min = np.nanmin(metric)\n",
    "    metric_max = np.nanmax(metric)\n",
    "    print(np.nanmean(metric))\n",
    "    \n",
    "    label_templ = '%s %s template in %s band'%(tp, which_tmpl, b)\n",
    "    \n",
    "elif which_tmpl=='Ibc':\n",
    "    t = templates[b]['phs']\n",
    "    tmpl_med = -1*templates[b]['med_smoothed']\n",
    "    tmpl_med_up = -1*templates[b]['pc25_smoothed']\n",
    "    tmpl_med_low = -1*templates[b]['pc75_smoothed']\n",
    "    t2 = t[(t <= x.max()) * (t >= x.min())]\n",
    "    u = interpolate.splrep(x, y, s=.5)\n",
    "    y2 = interpolate.splev(t2, u)\n",
    "    \n",
    "    \n",
    "    y2_min = np.nanmin(y2)\n",
    "    y = y2_min - y\n",
    "    y2 = y2_min - y2\n",
    "    \n",
    "    tmpl_med = tmpl_med - np.nanmax(tmpl_med)\n",
    "    tmpl_med_up = tmpl_med_up - np.nanmax(tmpl_med)\n",
    "    tmpl_med_low = tmpl_med_low - np.nanmax(tmpl_med)\n",
    "    t = t - t[np.nanargmax(tmpl_med)]\n",
    "    \n",
    "    IQR = np.abs(tmpl_med - tmpl_med_low)\n",
    "    metric = np.abs(y2 - tmpl_med_low[(t <= x.max()) * (t >= x.min())])/IQR[(t <= x.max()) * (t >= x.min())]\n",
    "    metric_min = np.nanmin(metric)\n",
    "    metric_max = np.nanmax(metric)\n",
    "    \n",
    "    label_templ = '%s template in %s band'%(which_tmpl, b)\n",
    "    \n",
    "plt.plot(x, y, '.', label=sn_name + ' in %s band'%b)\n",
    "plt.plot(t2, y2, label=sn_name + ' interpolation in %s band'%b)\n",
    "plt.plot(t, tmpl_med, color = colorTypes[tp], label=label_templ)\n",
    "plt.fill_between(t, tmpl_med_low, tmpl_med_up, alpha=0.3, color = colorTypes[tp])\n",
    "plt.legend(loc = 4)\n",
    "\n",
    "plt.xlabel('Phase (time-peak)')\n",
    "plt.ylabel('Relative Magnitude')\n",
    "plt.text(0.45, 0.95, 'Distance from template= %i to %i x IQR'%(metric_min, metric_max), transform=plt.gca().transAxes)  "
   ]
  },
  {
   "cell_type": "code",
   "execution_count": 121,
   "id": "96bf9efc-9a69-4573-9484-0107a97c2f82",
   "metadata": {},
   "outputs": [
    {
     "data": {
      "text/plain": [
       "12.57"
      ]
     },
     "execution_count": 121,
     "metadata": {},
     "output_type": "execute_result"
    }
   ],
   "source": [
    "np.min(y)"
   ]
  },
  {
   "cell_type": "code",
   "execution_count": null,
   "id": "9687c86f-a019-4bd6-bd58-1b3777486a51",
   "metadata": {},
   "outputs": [],
   "source": []
  }
 ],
 "metadata": {
  "kernelspec": {
   "display_name": "Python 3 (ipykernel)",
   "language": "python",
   "name": "python3"
  },
  "language_info": {
   "codemirror_mode": {
    "name": "ipython",
    "version": 3
   },
   "file_extension": ".py",
   "mimetype": "text/x-python",
   "name": "python",
   "nbconvert_exporter": "python",
   "pygments_lexer": "ipython3",
   "version": "3.8.18"
  }
 },
 "nbformat": 4,
 "nbformat_minor": 5
}
