{
 "cells": [
  {
   "cell_type": "code",
   "execution_count": 1,
   "metadata": {},
   "outputs": [],
   "source": [
    "import numpy as np\n",
    "import pandas as pd\n",
    "import matplotlib.pyplot as plt"
   ]
  },
  {
   "cell_type": "code",
   "execution_count": 2,
   "metadata": {},
   "outputs": [],
   "source": [
    "new_lc = []\n",
    "with open(\"data/paper_table_ztf-lc.txt\") as fp:\n",
    "    Lines = fp.readlines()\n",
    "    for line in Lines:\n",
    "        new_lc.append(line.split(' & '))\n",
    "        "
   ]
  },
  {
   "cell_type": "code",
   "execution_count": 3,
   "metadata": {},
   "outputs": [
    {
     "data": {
      "text/plain": [
       "array(['r', 'r', 'r', ..., 'i', 'z', 'i'], dtype='<U26')"
      ]
     },
     "execution_count": 3,
     "metadata": {},
     "output_type": "execute_result"
    }
   ],
   "source": [
    "np.asarray(new_lc)[:,1]"
   ]
  },
  {
   "cell_type": "code",
   "execution_count": 4,
   "metadata": {},
   "outputs": [],
   "source": [
    "df = pd.DataFrame({'name': np.asarray(new_lc)[:,0],\n",
    "                   'band': np.asarray(new_lc)[:,1],\n",
    "                   'JD': np.asarray(new_lc)[:,2],\n",
    "                   'flux': np.asarray(new_lc)[:,3],\n",
    "                   'eflux': np.asarray(new_lc)[:,4],\n",
    "                   'mag': np.asarray(new_lc)[:,5],\n",
    "                   'emag': np.asarray(new_lc)[:,6]})"
   ]
  },
  {
   "cell_type": "code",
   "execution_count": 5,
   "metadata": {},
   "outputs": [],
   "source": [
    "# df.groupby('name').size().keys()[1:]\n",
    "names = np.unique(np.asarray(new_lc)[:,0])[1:]"
   ]
  },
  {
   "cell_type": "code",
   "execution_count": 6,
   "metadata": {},
   "outputs": [],
   "source": [
    "shortnames = names.copy()\n",
    "for i,name in enumerate(shortnames):\n",
    "    if name.split('20')[1] == '':\n",
    "        shortnames[i] = 'sn20'+ name.split('20')[2]\n",
    "    else:\n",
    "        shortnames[i] = 'sn'+ name.split('20')[1]"
   ]
  },
  {
   "cell_type": "code",
   "execution_count": 100,
   "metadata": {},
   "outputs": [],
   "source": [
    "for i,name in enumerate(shortnames):\n",
    "    sn = df[df.name == names[i]].reset_index()\n",
    "    fileout = open(\"./../literaturedata/slc.\" + name + \".f\", \"w\")\n",
    "    bands = sn.groupby('band').size().keys()\n",
    "    \n",
    "    for i, b in enumerate(bands):\n",
    "        if b in ['UVW1', 'UVW2', 'UVM2', 'H', 'Ks', 'J']:\n",
    "            continue\n",
    "        \n",
    "        \n",
    "        for j, t in enumerate(sn[sn.band == b].reset_index()['JD']):\n",
    "            \n",
    "            dm = sn[sn.band == b].reset_index()['emag'][j]\n",
    "            \n",
    "            if float(dm) > 90:\n",
    "                continue\n",
    "#                 dm = 1\n",
    "        \n",
    "            fileout.write('{0} {1} {2} {3} {4} {5}\\n'.format(b + 'l', t, 'nan', 'nan', dm,\n",
    "                                                             sn[sn.band == b].reset_index()['mag'][j]))\n",
    "    fileout.close()"
   ]
  },
  {
   "cell_type": "code",
   "execution_count": 59,
   "metadata": {},
   "outputs": [
    {
     "data": {
      "text/plain": [
       "0       SN2018bcc\n",
       "1       SN2018bcc\n",
       "2       SN2018bcc\n",
       "3       SN2018bcc\n",
       "4       SN2018bcc\n",
       "          ...    \n",
       "9314    AT2020xlt\n",
       "9315    AT2020xlt\n",
       "9316    AT2020xlt\n",
       "9317    AT2020xlt\n",
       "9318    AT2020xlt\n",
       "Name: name, Length: 9319, dtype: object"
      ]
     },
     "execution_count": 59,
     "metadata": {},
     "output_type": "execute_result"
    }
   ],
   "source": [
    "df.name"
   ]
  },
  {
   "cell_type": "code",
   "execution_count": 49,
   "metadata": {},
   "outputs": [
    {
     "data": {
      "text/plain": [
       "array(['sn18lug', 'sn18lwc', 'sn19aajt', 'sn19aaju', 'sn19dcm', 'sn19esf',\n",
       "       'sn19kyw', 'sn19lbr', 'sn19qwx', 'sn19scr', 'sn19van', 'sn20aexw',\n",
       "       'sn20bdh', 'sn20bot', 'sn20kfw', 'sn20mlq', 'sn20rsc', 'sn20xlt',\n",
       "       'sn20xnd', 'sn20yqt', 'sn18bcc', 'sn18gep', 'sn18ghd', 'sn18gjx',\n",
       "       'sn19aajs', 'sn19deh', 'sn19dge', 'sn19myn', 'sn19php', 'sn19qav',\n",
       "       'sn19rii', 'sn19rta', 'sn20ano', 'sn20ikq', 'sn20jji', 'sn20jmb',\n",
       "       'sn20ntt', 'sn20oi', 'sn20vyv'], dtype='<U26')"
      ]
     },
     "execution_count": 49,
     "metadata": {},
     "output_type": "execute_result"
    }
   ],
   "source": [
    "names"
   ]
  },
  {
   "cell_type": "code",
   "execution_count": null,
   "metadata": {},
   "outputs": [],
   "source": []
  }
 ],
 "metadata": {
  "kernelspec": {
   "display_name": "Python 3",
   "language": "python",
   "name": "python3"
  },
  "language_info": {
   "codemirror_mode": {
    "name": "ipython",
    "version": 3
   },
   "file_extension": ".py",
   "mimetype": "text/x-python",
   "name": "python",
   "nbconvert_exporter": "python",
   "pygments_lexer": "ipython3",
   "version": "3.7.4"
  }
 },
 "nbformat": 4,
 "nbformat_minor": 2
}
