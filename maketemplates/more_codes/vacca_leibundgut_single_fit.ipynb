{
 "cells": [
  {
   "cell_type": "code",
   "execution_count": 1,
   "metadata": {},
   "outputs": [],
   "source": [
    "import pickle as pkl\n",
    "import numpy as np\n",
    "import pandas as pd\n",
    "import matplotlib.pyplot as plt\n",
    "from vaccaleibundgut import *\n",
    "from Functions import *\n",
    "from scipy.optimize import minimize"
   ]
  },
  {
   "cell_type": "code",
   "execution_count": null,
   "metadata": {},
   "outputs": [],
   "source": []
  },
  {
   "cell_type": "code",
   "execution_count": null,
   "metadata": {},
   "outputs": [],
   "source": []
  },
  {
   "cell_type": "code",
   "execution_count": 2,
   "metadata": {},
   "outputs": [],
   "source": [
    "pklf = 'high_SN_Ic_HostXT_peak_covered_low_redshift.pkl'\n",
    "selected_lc = pkl.load(open(pklf, \"rb\"))"
   ]
  },
  {
   "cell_type": "code",
   "execution_count": 19,
   "metadata": {},
   "outputs": [],
   "source": [
    "# Test fitting algorithms to a single light curve\n",
    "\n",
    "keys = np.asarray(selected_lc.keys())\n",
    "ID = '2'\n",
    "b = 'r'\n",
    "t = selected_lc[ID][b]['t']\n",
    "f = selected_lc[ID][b]['f']\n",
    "ferr = selected_lc[ID][b]['ferr']\n",
    "\n",
    "t = t[f>0]\n",
    "ferr = ferr[f>0]\n",
    "f = f[f>0]\n",
    "\n",
    "if len(f) == 0:\n",
    "    print(ID)\n",
    "\n",
    "m = 27.5 - 2.5*np.log10(f) #-2.5*np.log10(f/(10**(-0.4*27.5)))\n",
    "median = np.nanmedian(m)\n",
    "m = m- median\n",
    "merr = 2.5 / np.log(10) * ferr / f\n",
    "\n",
    "#     x = x - x[np.argmin(y)]\n",
    "x_peak = t[np.argmin(m)]\n",
    "y_peak = m[np.argmin(m)]\n",
    "\n",
    "low_lim = -50\n",
    "up_lim = 100\n",
    "x = t - x_peak\n",
    "ind = (x < up_lim) & (x > low_lim)\n",
    "\n",
    "\n",
    "y = m[ind]\n",
    "yerr = merr[ind]\n",
    "f = f[ind]\n",
    "ferr = ferr[ind]\n",
    "x = x[ind]\n",
    "y =  y - y[np.argmin(y)]\n",
    "\n",
    "df = pd.DataFrame({'t': x, 'A': y, 'A_err': yerr})\n",
    "\n",
    "\n",
    "\n",
    "t_new = np.linspace(x.min(), x.max(), 1000)"
   ]
  },
  {
   "cell_type": "code",
   "execution_count": 20,
   "metadata": {},
   "outputs": [
    {
     "data": {
      "text/plain": [
       "[<matplotlib.lines.Line2D at 0x7f8e40ecfc10>]"
      ]
     },
     "execution_count": 20,
     "metadata": {},
     "output_type": "execute_result"
    },
    {
     "data": {
      "image/png": "[encoded data removed]",
      "text/plain": [
       "<Figure size 432x288 with 1 Axes>"
      ]
     },
     "metadata": {
      "needs_background": "light"
     },
     "output_type": "display_data"
    }
   ],
   "source": [
    "plt.plot(x, f, '.')"
   ]
  },
  {
   "cell_type": "code",
   "execution_count": 21,
   "metadata": {},
   "outputs": [],
   "source": [
    "p0 = [0] * 7\n",
    "p0[0] = -4\n",
    "peakdate = x[np.where(y == min(y))[0]]\n",
    "\n",
    "if len(peakdate) > 1:\n",
    "    peakdate = peakdate[0]\n",
    "p0[1] = peakdate + 5\n",
    "p0[2] = 10  # sigma\n",
    "\n",
    "lintail = np.where(x > peakdate + 50)[0]\n",
    "if len(lintail) < 1:\n",
    "    print (\"no tail data\")\n",
    "    linfit = np.polyfit(x[-2:], y[-2:], 1)\n",
    "    p0[3] = linfit[1]\n",
    "    p0[4] = linfit[0]\n",
    "else:\n",
    "    linfit = np.polyfit(x[lintail], y[lintail], 1)\n",
    "    p0[3] = linfit[1]\n",
    "    p0[4] = linfit[0]\n",
    "    \n",
    "p0[5] = 0.1\n",
    "p0[6] = peakdate - 20"
   ]
  },
  {
   "cell_type": "code",
   "execution_count": 22,
   "metadata": {},
   "outputs": [],
   "source": [
    "res1 = minimize(nll_VC, p0, \n",
    "               args=(np.asarray(x), np.asarray(f), np.asarray(ferr)), method = 'Powell')\n",
    "#               \n",
    "\n",
    "# res2 = minimize(nll_lin, p2, \n",
    "#                args=(np.asarray(x[x>=cutoff]), np.asarray(f[x>=cutoff]), np.asarray(ferr[x>=cutoff])),method = 'Powell')\n",
    "# #               bounds=((None,None), (None, None), (0, None), (15, 100), (None, 0)), "
   ]
  },
  {
   "cell_type": "code",
   "execution_count": 23,
   "metadata": {},
   "outputs": [
    {
     "data": {
      "text/plain": [
       "[<matplotlib.lines.Line2D at 0x7f8e50b8a690>]"
      ]
     },
     "execution_count": 23,
     "metadata": {},
     "output_type": "execute_result"
    },
    {
     "data": {
      "image/png": "[encoded data removed]",
      "text/plain": [
       "<Figure size 432x288 with 1 Axes>"
      ]
     },
     "metadata": {
      "needs_background": "light"
     },
     "output_type": "display_data"
    }
   ],
   "source": [
    "plt.plot(x, f, '.')\n",
    "plt.plot(t_new, sn_fit(t_new, *res1['x']))\n"
   ]
  },
  {
   "cell_type": "code",
   "execution_count": null,
   "metadata": {},
   "outputs": [],
   "source": []
  }
 ],
 "metadata": {
  "kernelspec": {
   "display_name": "Python 3",
   "language": "python",
   "name": "python3"
  },
  "language_info": {
   "codemirror_mode": {
    "name": "ipython",
    "version": 3
   },
   "file_extension": ".py",
   "mimetype": "text/x-python",
   "name": "python",
   "nbconvert_exporter": "python",
   "pygments_lexer": "ipython3",
   "version": "3.7.4"
  }
 },
 "nbformat": 4,
 "nbformat_minor": 2
}
