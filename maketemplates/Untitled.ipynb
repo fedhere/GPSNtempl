{
 "cells": [
  {
   "cell_type": "code",
   "execution_count": 1,
   "metadata": {},
   "outputs": [],
   "source": [
    "import os\n",
    "import pickle as pkl\n",
    "import sys\n",
    "import numpy as np\n",
    "import pandas as pd\n",
    "from bokeh.plotting import output_file\n",
    "import matplotlib.gridspec as gridspec\n",
    "import matplotlib.pyplot as plt\n",
    "try:\n",
    "    os.environ['SESNPATH']\n",
    "    os.environ['SESNCFAlib']\n",
    "\n",
    "except KeyError:\n",
    "    print (\"must set environmental variable SESNPATH and SESNCfAlib\")\n",
    "    sys.exit()\n",
    "\n",
    "cmd_folder = os.getenv(\"SESNCFAlib\")\n",
    "if cmd_folder not in sys.path:\n",
    "    sys.path.insert(0, cmd_folder)\n",
    "cmd_folder = os.getenv(\"SESNCFAlib\") + \"/templates\"\n",
    "if cmd_folder not in sys.path:\n",
    "    sys.path.insert(0, cmd_folder)\n",
    "\n",
    "from savgol import savitzky_golay\n",
    "from snclasses import *\n",
    "from matplotlib.ticker import AutoMinorLocator, MultipleLocator, MaxNLocator"
   ]
  },
  {
   "cell_type": "code",
   "execution_count": 2,
   "metadata": {},
   "outputs": [],
   "source": [
    "SNTYPES = ['Ib','IIb','Ic','Ic-bl', 'Ibn']\n",
    "bands = ['U','B','V', 'g', 'R', 'I', 'rp','ip','up','J','H','K','m2','w1','w2']\n",
    "colorTypes = {'IIb':'FireBrick',\n",
    "             'Ib':'SteelBlue',\n",
    "             'Ic':'DarkGreen',\n",
    "             'Ic-bl':'DarkOrange',\n",
    "             'Ibn':'purple'}"
   ]
  },
  {
   "cell_type": "code",
   "execution_count": null,
   "metadata": {},
   "outputs": [],
   "source": []
  },
  {
   "cell_type": "code",
   "execution_count": 6,
   "metadata": {},
   "outputs": [],
   "source": [
    "tmpl = {}"
   ]
  },
  {
   "cell_type": "code",
   "execution_count": 8,
   "metadata": {},
   "outputs": [],
   "source": [
    "SNTYPES = ['Ib','IIb','Ic','Ic-bl', 'Ibn']\n",
    "\n",
    "\n",
    "for bb in bands:\n",
    "    tmpl[bb] = {}\n",
    "    \n",
    "\n",
    "    for SNTYPE in SNTYPES:\n",
    "        \n",
    "        tmpl[bb][SNTYPE] = {}\n",
    "\n",
    "        try:\n",
    "            path = \"outputs/GPs_2022/GPalltemplfit_%s_%s_V0.pkl\"%(SNTYPE,bb)\n",
    "            tmpl_ = pkl.load(open(path, \"rb\"))\n",
    "        except:\n",
    "            continue\n",
    "        \n",
    "        \n",
    "        \n",
    "#         print(tmpl_['rollingMedian'])\n",
    "\n",
    "        tmpl[bb][SNTYPE] = tmpl_\n",
    "    \n",
    "        if np.nansum(tmpl_['rollingMedian']) == 0:\n",
    "            print(bb, SNTYPE)\n",
    "            continue"
   ]
  },
  {
   "cell_type": "code",
   "execution_count": 9,
   "metadata": {},
   "outputs": [
    {
     "data": {
      "text/plain": [
       "[<matplotlib.lines.Line2D at 0x7f9691730750>]"
      ]
     },
     "execution_count": 9,
     "metadata": {},
     "output_type": "execute_result"
    },
    {
     "data": {
      "image/png": "[encoded data removed]",
      "text/plain": [
       "<Figure size 432x288 with 1 Axes>"
      ]
     },
     "metadata": {
      "needs_background": "light"
     },
     "output_type": "display_data"
    }
   ],
   "source": [
    "b = 'g'\n",
    "\n",
    "plt.plot(tmpl[b]['Ib']['t'],tmpl[b]['Ib']['rollingMedian'])"
   ]
  },
  {
   "cell_type": "code",
   "execution_count": null,
   "metadata": {},
   "outputs": [],
   "source": []
  }
 ],
 "metadata": {
  "kernelspec": {
   "display_name": "Python 3",
   "language": "python",
   "name": "python3"
  },
  "language_info": {
   "codemirror_mode": {
    "name": "ipython",
    "version": 3
   },
   "file_extension": ".py",
   "mimetype": "text/x-python",
   "name": "python",
   "nbconvert_exporter": "python",
   "pygments_lexer": "ipython3",
   "version": "3.7.4"
  }
 },
 "nbformat": 4,
 "nbformat_minor": 2
}
