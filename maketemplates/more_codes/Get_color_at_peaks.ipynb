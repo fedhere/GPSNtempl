{
 "cells": [
  {
   "cell_type": "code",
   "execution_count": 1,
   "id": "01fb71c7-1e1d-4cca-87e9-ff31b50e523c",
   "metadata": {},
   "outputs": [
    {
     "name": "stdout",
     "output_type": "stream",
     "text": [
      "Intel MKL WARNING: Support of Intel(R) Streaming SIMD Extensions 4.2 (Intel(R) SSE4.2) enabled only processors has been deprecated. Intel oneAPI Math Kernel Library 2025.0 will require Intel(R) Advanced Vector Extensions (Intel(R) AVX) instructions.\n",
      "Intel MKL WARNING: Support of Intel(R) Streaming SIMD Extensions 4.2 (Intel(R) SSE4.2) enabled only processors has been deprecated. Intel oneAPI Math Kernel Library 2025.0 will require Intel(R) Advanced Vector Extensions (Intel(R) AVX) instructions.\n"
     ]
    }
   ],
   "source": [
    "import pickle as pkl\n",
    "import numpy as np\n",
    "import pandas as pd\n",
    "import os, sys\n",
    "import matplotlib.pyplot as plt\n",
    "import statistics\n",
    "cmd_folder = os.getenv(\"SESNPATH\") + \"/utils\"\n",
    "if cmd_folder not in sys.path:\n",
    "    sys.path.insert(0, cmd_folder)\n",
    "\n",
    "from templutils import *"
   ]
  },
  {
   "cell_type": "code",
   "execution_count": 2,
   "id": "917e1fae-b1ce-4c5f-a2ba-67b46822191f",
   "metadata": {},
   "outputs": [],
   "source": [
    "su = setupvars()\n",
    "bands = su.bands"
   ]
  },
  {
   "cell_type": "code",
   "execution_count": 3,
   "id": "8b199567-a857-4ab8-a7ee-30ba93002027",
   "metadata": {},
   "outputs": [],
   "source": [
    "output_directory = os.getenv(\"SESNPATH\") + \"extra_outputs/\"\n",
    "all_params = pkl.load(open(output_directory + \"all_params_for_varience_analysis.pkl\", \"rb\"))"
   ]
  },
  {
   "cell_type": "code",
   "execution_count": 4,
   "id": "c564e9b4-93b0-4e37-a3da-edeb80f4b25a",
   "metadata": {},
   "outputs": [
    {
     "name": "stdout",
     "output_type": "stream",
     "text": [
      "Found 165 SNe\n"
     ]
    }
   ],
   "source": [
    "all_sn = list(all_params.keys()) \n",
    "print('Found %i SNe'%len(all_sn))"
   ]
  },
  {
   "cell_type": "code",
   "execution_count": null,
   "id": "2aa9cbf8-336e-49c9-b480-981c43e7aebe",
   "metadata": {},
   "outputs": [],
   "source": []
  }
 ],
 "metadata": {
  "kernelspec": {
   "display_name": "Python 3 (ipykernel)",
   "language": "python",
   "name": "python3"
  },
  "language_info": {
   "codemirror_mode": {
    "name": "ipython",
    "version": 3
   },
   "file_extension": ".py",
   "mimetype": "text/x-python",
   "name": "python",
   "nbconvert_exporter": "python",
   "pygments_lexer": "ipython3",
   "version": "3.8.18"
  }
 },
 "nbformat": 4,
 "nbformat_minor": 5
}
