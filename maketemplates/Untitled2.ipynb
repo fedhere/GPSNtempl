{
 "cells": [
  {
   "cell_type": "code",
   "execution_count": 1,
   "metadata": {},
   "outputs": [],
   "source": [
    "import pylab as pl\n",
    "import numpy as np"
   ]
  },
  {
   "cell_type": "code",
   "execution_count": 3,
   "metadata": {},
   "outputs": [],
   "source": [
    "# # a whole bunch of imports...I'm being annoyingly liberal here\n",
    "# import glob \n",
    "# import inspect\n",
    "# import optparse\n",
    "# import time\n",
    "# import copy\n",
    "# import os\n",
    "# import pylab as pl\n",
    "# import numpy as np\n",
    "# import scipy\n",
    "# import json\n",
    "# import sys\n",
    "# import pickle as pkl\n",
    "\n",
    "# import scipy as sp\n",
    "# import numpy as np\n",
    "# from scipy import optimize\n",
    "# from scipy.interpolate import interp1d\n",
    "# from scipy import stats as spstats \n",
    "# from scipy import integrate\n",
    "\n",
    "# from scipy.interpolate import InterpolatedUnivariateSpline\n",
    "\n",
    "# from scipy.interpolate import UnivariateSpline,splrep, splev\n",
    "# import scipy.optimize as op\n",
    "# from scipy import interpolate\n",
    "\n",
    "# import multiprocessing as mpc\n",
    "# from importlib import reload\n",
    "\n",
    "# import json\n",
    "# import os\n",
    "# import pandas as pd\n",
    "\n",
    "# # s = json.load( open(os.getenv ('PUI2015')+\"/fbb_matplotlibrc.json\") )\n",
    "# # pl.rcParams.update(s)\n",
    "\n",
    "\n",
    "\n",
    "# import snclasses as snstuff\n",
    "# import templutils as templutils\n",
    "# import utils as snutils\n",
    "# import fitutils as fitutils\n",
    "# import myastrotools as myas\n",
    "# import matplotlib as mpl\n",
    "\n",
    "# # mpl.use('agg')\n",
    "\n",
    "# import pylab as pl\n",
    "# from pylab import rc\n",
    "# import plotutils as plotutils\n",
    "# from scipy.interpolate import interp1d\n",
    "# import templutils as tpl\n",
    "\n",
    "# pl.rcParams['figure.figsize']=(10,10)"
   ]
  },
  {
   "cell_type": "code",
   "execution_count": null,
   "metadata": {},
   "outputs": [],
   "source": [
    "import os, sys\n",
    "\n",
    "cmd_folder = os.path.realpath(os.getenv(\"SESNCFAlib\"))\n",
    "\n",
    "if cmd_folder not in sys.path:\n",
    "     sys.path.insert(0, cmd_folder)\n",
    "        \n",
    "import snclasses as snstuff\n",
    "import templutils as templutils"
   ]
  },
  {
   "cell_type": "code",
   "execution_count": 7,
   "metadata": {},
   "outputs": [],
   "source": [
    "#setting parameters for lcv reader\n",
    "#use literature data (if False only CfA data)\n",
    "LIT=True\n",
    "#use NIR data too\n",
    "FNIR=True\n",
    "#uncomment for all lcvs to be read in\n",
    "#allsne = pd.read_csv(os.getenv(\"SESNCFAlib\") + \"/SESNessentials.csv\")['SNname'].values"
   ]
  },
  {
   "cell_type": "code",
   "execution_count": 8,
   "metadata": {},
   "outputs": [
    {
     "ename": "NameError",
     "evalue": "name 'templutils' is not defined",
     "output_type": "error",
     "traceback": [
      "\u001b[0;31m---------------------------------------------------------------------------\u001b[0m",
      "\u001b[0;31mNameError\u001b[0m                                 Traceback (most recent call last)",
      "\u001b[0;32m<ipython-input-8-9e4b7673cdda>\u001b[0m in \u001b[0;36m<module>\u001b[0;34m\u001b[0m\n\u001b[1;32m      2\u001b[0m \u001b[0;34m\u001b[0m\u001b[0m\n\u001b[1;32m      3\u001b[0m \u001b[0;31m#set up SESNCfalib stuff\u001b[0m\u001b[0;34m\u001b[0m\u001b[0;34m\u001b[0m\u001b[0;34m\u001b[0m\u001b[0m\n\u001b[0;32m----> 4\u001b[0;31m \u001b[0msu\u001b[0m \u001b[0;34m=\u001b[0m \u001b[0mtemplutils\u001b[0m\u001b[0;34m.\u001b[0m\u001b[0msetupvars\u001b[0m\u001b[0;34m(\u001b[0m\u001b[0;34m)\u001b[0m\u001b[0;34m\u001b[0m\u001b[0;34m\u001b[0m\u001b[0m\n\u001b[0m\u001b[1;32m      5\u001b[0m \u001b[0mnbands\u001b[0m \u001b[0;34m=\u001b[0m \u001b[0mlen\u001b[0m\u001b[0;34m(\u001b[0m\u001b[0msu\u001b[0m\u001b[0;34m.\u001b[0m\u001b[0mbands\u001b[0m\u001b[0;34m)\u001b[0m\u001b[0;34m\u001b[0m\u001b[0;34m\u001b[0m\u001b[0m\n\u001b[1;32m      6\u001b[0m \u001b[0;34m\u001b[0m\u001b[0m\n",
      "\u001b[0;31mNameError\u001b[0m: name 'templutils' is not defined"
     ]
    }
   ],
   "source": [
    "allsne = ['iPTF13bvn']\n",
    "\n",
    "#set up SESNCfalib stuff\n",
    "su = templutils.setupvars()\n",
    "nbands = len(su.bands)\n",
    "\n",
    "errorbarInflate = {\"93J\":30, \n",
    "                   \"OGLE-2013-sn-134\":1,\n",
    "                  \"03dh\":1,\n",
    "                  \"DES16s1kt\":1,\n",
    "                  \"iPTF13bvn\":1}\n",
    "        "
   ]
  },
  {
   "cell_type": "code",
   "execution_count": null,
   "metadata": {},
   "outputs": [],
   "source": []
  }
 ],
 "metadata": {
  "kernelspec": {
   "display_name": "Python 3",
   "language": "python",
   "name": "python3"
  },
  "language_info": {
   "codemirror_mode": {
    "name": "ipython",
    "version": 3
   },
   "file_extension": ".py",
   "mimetype": "text/x-python",
   "name": "python",
   "nbconvert_exporter": "python",
   "pygments_lexer": "ipython3",
   "version": "3.7.9"
  }
 },
 "nbformat": 4,
 "nbformat_minor": 4
}
