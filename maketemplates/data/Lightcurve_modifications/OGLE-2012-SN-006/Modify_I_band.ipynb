{
 "cells": [
  {
   "cell_type": "code",
   "execution_count": 15,
   "metadata": {},
   "outputs": [],
   "source": [
    "import os\n",
    "import sys\n",
    "import glob \n",
    "import inspect\n",
    "import optparse\n",
    "import time\n",
    "import copy\n",
    "import json\n",
    "import pylab as pl\n",
    "import numpy as np\n",
    "import pickle as pkl\n",
    "import pandas as pd\n",
    "import scipy as sp\n",
    "import pandas as pd"
   ]
  },
  {
   "cell_type": "code",
   "execution_count": 6,
   "metadata": {},
   "outputs": [],
   "source": [
    "sn = 'OGLE-2012-SN-006'"
   ]
  },
  {
   "cell_type": "code",
   "execution_count": 7,
   "metadata": {},
   "outputs": [],
   "source": [
    "url = 'https://api.astrocats.space/'+str(sn)+'/sources+photometry'"
   ]
  },
  {
   "cell_type": "code",
   "execution_count": 9,
   "metadata": {},
   "outputs": [],
   "source": [
    "js = pd.read_json(url)"
   ]
  },
  {
   "cell_type": "code",
   "execution_count": 11,
   "metadata": {},
   "outputs": [
    {
     "data": {
      "text/plain": [
       "photometry    [{'time': '56111.42041', 'band': 'I', 'e_magni...\n",
       "sources       [{'name': '2016A&A...594A..13P', 'bibcode': '2...\n",
       "Name: OGLE-2012-SN-006, dtype: object"
      ]
     },
     "execution_count": 11,
     "metadata": {},
     "output_type": "execute_result"
    }
   ],
   "source": [
    "js['OGLE-2012-SN-006']"
   ]
  },
  {
   "cell_type": "code",
   "execution_count": 39,
   "metadata": {},
   "outputs": [],
   "source": [
    "time = []\n",
    "band = []\n",
    "mag = []\n",
    "emag = []\n",
    "source = []\n",
    "\n",
    "for i,dp in enumerate(js['OGLE-2012-SN-006']['photometry']):\n",
    "    \n",
    "    if  'upperlimit' in dp.keys():\n",
    "        continue\n",
    "    \n",
    "    time.append(float(dp['time']))\n",
    "    band.append(dp['band'])\n",
    "    mag.append(float(dp['magnitude']))\n",
    "    emag.append(float(dp['e_magnitude']))\n",
    "    source.append(dp['source'])"
   ]
  },
  {
   "cell_type": "code",
   "execution_count": 40,
   "metadata": {},
   "outputs": [],
   "source": [
    "df = pd.DataFrame({'t': time, 'b': band, 'm': mag, 'e_m': emag, 's':source})"
   ]
  },
  {
   "cell_type": "code",
   "execution_count": 41,
   "metadata": {},
   "outputs": [],
   "source": [
    "df.to_csv(sn+'_modified.csv')"
   ]
  },
  {
   "cell_type": "code",
   "execution_count": 42,
   "metadata": {},
   "outputs": [],
   "source": [
    "df = pd.read_csv(sn+'_modified.csv')"
   ]
  },
  {
   "cell_type": "code",
   "execution_count": 48,
   "metadata": {},
   "outputs": [
    {
     "data": {
      "text/plain": [
       "array([18.99, 18.52, 17.65, 17.59, 17.47, 17.46, 17.39, 17.39, 17.41,\n",
       "       17.45, 17.47, 17.47, 17.52, 17.7 , 17.76, 17.79, 17.92, 17.96,\n",
       "       18.01, 18.06, 18.09, 18.15, 18.19, 18.24, 18.34, 18.39, 18.44,\n",
       "       18.38, 18.43, 18.5 , 18.54, 18.55, 18.59, 18.6 , 18.59, 18.64,\n",
       "       18.68, 18.63, 18.69, 18.63, 18.69, 18.68, 18.69, 18.73, 18.8 ,\n",
       "       18.78, 18.84, 18.93, 19.03, 19.01, 19.12, 19.02, 18.94, 19.07,\n",
       "       19.03, 19.09, 19.1 , 19.  , 19.05, 19.07, 19.01, 19.1 , 19.19,\n",
       "       19.11, 19.1 , 19.3 , 19.22, 19.19, 19.1 , 19.14, 19.2 , 19.24,\n",
       "       19.23, 19.17, 19.23, 19.14, 19.25, 19.35, 19.36, 19.22, 19.32,\n",
       "       19.45, 19.24, 19.33, 19.42, 19.34, 19.43, 19.36, 19.36, 19.38,\n",
       "       19.62, 19.64, 19.69, 19.64, 19.73, 19.8 , 21.86])"
      ]
     },
     "execution_count": 48,
     "metadata": {},
     "output_type": "execute_result"
    }
   ],
   "source": [
    "df.m[(df.b == 'I') & (df.s == 2)].values"
   ]
  },
  {
   "cell_type": "code",
   "execution_count": 46,
   "metadata": {},
   "outputs": [
    {
     "data": {
      "text/plain": [
       "b\n",
       "B      11\n",
       "H       6\n",
       "I     192\n",
       "J       7\n",
       "KS      6\n",
       "R      34\n",
       "U       9\n",
       "V      46\n",
       "dtype: int64"
      ]
     },
     "execution_count": 46,
     "metadata": {},
     "output_type": "execute_result"
    }
   ],
   "source": [
    "df.groupby('b').size()"
   ]
  },
  {
   "cell_type": "code",
   "execution_count": null,
   "metadata": {},
   "outputs": [],
   "source": []
  }
 ],
 "metadata": {
  "kernelspec": {
   "display_name": "Python 3",
   "language": "python",
   "name": "python3"
  },
  "language_info": {
   "codemirror_mode": {
    "name": "ipython",
    "version": 3
   },
   "file_extension": ".py",
   "mimetype": "text/x-python",
   "name": "python",
   "nbconvert_exporter": "python",
   "pygments_lexer": "ipython3",
   "version": "3.7.4"
  }
 },
 "nbformat": 4,
 "nbformat_minor": 4
}
