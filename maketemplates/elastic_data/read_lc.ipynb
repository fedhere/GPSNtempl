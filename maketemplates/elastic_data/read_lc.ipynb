{
 "cells": [
  {
   "cell_type": "code",
   "execution_count": 5,
   "metadata": {},
   "outputs": [],
   "source": [
    "from Functions import *\n",
    "from select_lc import read_lc, select_lc\n",
    "\n",
    "%matplotlib inline"
   ]
  },
  {
   "cell_type": "markdown",
   "metadata": {},
   "source": [
    "Paths to where the Elasticc light curves are stored:\n",
    "\n",
    "Paths to Ib's: \n",
    "\n",
    "    'ELASTICC_TRAIN_SNIb+HostXT_V19/'\n",
    "    \n",
    "    'ELASTICC_TRAIN_SNIb-Templates/'\n",
    "    \n",
    "Paths to Ic's:\n",
    "\n",
    "    'ELASTICC_TRAIN_SNIc+HostXT_V19/'\n",
    "    \n",
    "    'ELASTICC_TRAIN_SNIc-Templates/'\n",
    "    \n",
    "Paths to Ic-bl's:\n",
    "\n",
    "    'ELASTICC_TRAIN_SNIcBL-+HostXT_V19/'\n",
    "    "
   ]
  },
  {
   "cell_type": "code",
   "execution_count": 12,
   "metadata": {},
   "outputs": [],
   "source": [
    "directory = 'ELASTICC_TRAIN_SNIc+HostXT_V19/'\n",
    "bash_file = directory + directory.split('/')[0]+'.sh'"
   ]
  },
  {
   "cell_type": "code",
   "execution_count": 14,
   "metadata": {},
   "outputs": [],
   "source": [
    "# Download the light curves in the directory\n",
    "\n",
    "!sh $bash_file"
   ]
  },
  {
   "cell_type": "code",
   "execution_count": 15,
   "metadata": {},
   "outputs": [],
   "source": [
    "# Read the light curves\n",
    "data = read_lc(directory)\n",
    "\n",
    "\n",
    "# To select a sample of the Elasticc light curves with low redshift,\n",
    "# high S/N ratio and at least 1 data point 5 days around the peak:\n",
    "seleccted_lc = select_lc(data)"
   ]
  },
  {
   "cell_type": "code",
   "execution_count": null,
   "metadata": {},
   "outputs": [],
   "source": []
  }
 ],
 "metadata": {
  "kernelspec": {
   "display_name": "Python 3",
   "language": "python",
   "name": "python3"
  },
  "language_info": {
   "codemirror_mode": {
    "name": "ipython",
    "version": 3
   },
   "file_extension": ".py",
   "mimetype": "text/x-python",
   "name": "python",
   "nbconvert_exporter": "python",
   "pygments_lexer": "ipython3",
   "version": "3.7.4"
  }
 },
 "nbformat": 4,
 "nbformat_minor": 2
}
